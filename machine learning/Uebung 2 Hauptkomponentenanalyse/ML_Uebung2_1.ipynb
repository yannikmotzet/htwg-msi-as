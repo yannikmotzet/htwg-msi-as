{
  "nbformat": 4,
  "nbformat_minor": 0,
  "metadata": {
    "colab": {
      "name": "ML_Uebung2_1.ipynb",
      "provenance": [],
      "collapsed_sections": []
    },
    "kernelspec": {
      "name": "python3",
      "display_name": "Python 3"
    }
  },
  "cells": [
    {
      "cell_type": "markdown",
      "metadata": {
        "id": "kxzJEjR8WJBX"
      },
      "source": [
        "### group members\n",
        "* Max Dunger\n",
        "* [Yannik Motzet](mailto:yannik.motzet@outlook.com)\n",
        "\n",
        "# Übung 2: Hauptkomponentenanalyse\n",
        "## 1. Implementierung der Hauptkomponentenanalyse"
      ]
    },
    {
      "cell_type": "code",
      "metadata": {
        "id": "t83hV2b41BUs",
        "outputId": "9fc1264f-78ed-4f05-a0aa-3d1b316b4ea1",
        "colab": {
          "base_uri": "https://localhost:8080/"
        }
      },
      "source": [
        "import numpy as np\n",
        "import pandas as pd\n",
        "np.__version__, pd.__version__, "
      ],
      "execution_count": null,
      "outputs": [
        {
          "output_type": "execute_result",
          "data": {
            "text/plain": [
              "('1.18.5', '1.1.4')"
            ]
          },
          "metadata": {
            "tags": []
          },
          "execution_count": 52
        }
      ]
    },
    {
      "cell_type": "code",
      "metadata": {
        "id": "xEQ0qanR1bdP",
        "outputId": "0f66084b-e4c4-49d3-9606-2a58c71f9089",
        "colab": {
          "base_uri": "https://localhost:8080/",
          "height": 419
        }
      },
      "source": [
        "url = 'https://archive.ics.uci.edu/ml/machine-learning-databases/housing/housing.data'\n",
        "cols = ['CRIM', 'ZN','INDUS','CHAS','NOX','RM','AGE','DIS','RAD','TAX','PTRATIO','B','LSTAT','TGT']\n",
        "boston_raw = pd.read_csv(url, sep =' ', skipinitialspace = True , header = None, names = cols , index_col = False)\n",
        "boston_raw"
      ],
      "execution_count": null,
      "outputs": [
        {
          "output_type": "execute_result",
          "data": {
            "text/html": [
              "<div>\n",
              "<style scoped>\n",
              "    .dataframe tbody tr th:only-of-type {\n",
              "        vertical-align: middle;\n",
              "    }\n",
              "\n",
              "    .dataframe tbody tr th {\n",
              "        vertical-align: top;\n",
              "    }\n",
              "\n",
              "    .dataframe thead th {\n",
              "        text-align: right;\n",
              "    }\n",
              "</style>\n",
              "<table border=\"1\" class=\"dataframe\">\n",
              "  <thead>\n",
              "    <tr style=\"text-align: right;\">\n",
              "      <th></th>\n",
              "      <th>CRIM</th>\n",
              "      <th>ZN</th>\n",
              "      <th>INDUS</th>\n",
              "      <th>CHAS</th>\n",
              "      <th>NOX</th>\n",
              "      <th>RM</th>\n",
              "      <th>AGE</th>\n",
              "      <th>DIS</th>\n",
              "      <th>RAD</th>\n",
              "      <th>TAX</th>\n",
              "      <th>PTRATIO</th>\n",
              "      <th>B</th>\n",
              "      <th>LSTAT</th>\n",
              "      <th>TGT</th>\n",
              "    </tr>\n",
              "  </thead>\n",
              "  <tbody>\n",
              "    <tr>\n",
              "      <th>0</th>\n",
              "      <td>0.00632</td>\n",
              "      <td>18.0</td>\n",
              "      <td>2.31</td>\n",
              "      <td>0</td>\n",
              "      <td>0.538</td>\n",
              "      <td>6.575</td>\n",
              "      <td>65.2</td>\n",
              "      <td>4.0900</td>\n",
              "      <td>1</td>\n",
              "      <td>296.0</td>\n",
              "      <td>15.3</td>\n",
              "      <td>396.90</td>\n",
              "      <td>4.98</td>\n",
              "      <td>24.0</td>\n",
              "    </tr>\n",
              "    <tr>\n",
              "      <th>1</th>\n",
              "      <td>0.02731</td>\n",
              "      <td>0.0</td>\n",
              "      <td>7.07</td>\n",
              "      <td>0</td>\n",
              "      <td>0.469</td>\n",
              "      <td>6.421</td>\n",
              "      <td>78.9</td>\n",
              "      <td>4.9671</td>\n",
              "      <td>2</td>\n",
              "      <td>242.0</td>\n",
              "      <td>17.8</td>\n",
              "      <td>396.90</td>\n",
              "      <td>9.14</td>\n",
              "      <td>21.6</td>\n",
              "    </tr>\n",
              "    <tr>\n",
              "      <th>2</th>\n",
              "      <td>0.02729</td>\n",
              "      <td>0.0</td>\n",
              "      <td>7.07</td>\n",
              "      <td>0</td>\n",
              "      <td>0.469</td>\n",
              "      <td>7.185</td>\n",
              "      <td>61.1</td>\n",
              "      <td>4.9671</td>\n",
              "      <td>2</td>\n",
              "      <td>242.0</td>\n",
              "      <td>17.8</td>\n",
              "      <td>392.83</td>\n",
              "      <td>4.03</td>\n",
              "      <td>34.7</td>\n",
              "    </tr>\n",
              "    <tr>\n",
              "      <th>3</th>\n",
              "      <td>0.03237</td>\n",
              "      <td>0.0</td>\n",
              "      <td>2.18</td>\n",
              "      <td>0</td>\n",
              "      <td>0.458</td>\n",
              "      <td>6.998</td>\n",
              "      <td>45.8</td>\n",
              "      <td>6.0622</td>\n",
              "      <td>3</td>\n",
              "      <td>222.0</td>\n",
              "      <td>18.7</td>\n",
              "      <td>394.63</td>\n",
              "      <td>2.94</td>\n",
              "      <td>33.4</td>\n",
              "    </tr>\n",
              "    <tr>\n",
              "      <th>4</th>\n",
              "      <td>0.06905</td>\n",
              "      <td>0.0</td>\n",
              "      <td>2.18</td>\n",
              "      <td>0</td>\n",
              "      <td>0.458</td>\n",
              "      <td>7.147</td>\n",
              "      <td>54.2</td>\n",
              "      <td>6.0622</td>\n",
              "      <td>3</td>\n",
              "      <td>222.0</td>\n",
              "      <td>18.7</td>\n",
              "      <td>396.90</td>\n",
              "      <td>5.33</td>\n",
              "      <td>36.2</td>\n",
              "    </tr>\n",
              "    <tr>\n",
              "      <th>...</th>\n",
              "      <td>...</td>\n",
              "      <td>...</td>\n",
              "      <td>...</td>\n",
              "      <td>...</td>\n",
              "      <td>...</td>\n",
              "      <td>...</td>\n",
              "      <td>...</td>\n",
              "      <td>...</td>\n",
              "      <td>...</td>\n",
              "      <td>...</td>\n",
              "      <td>...</td>\n",
              "      <td>...</td>\n",
              "      <td>...</td>\n",
              "      <td>...</td>\n",
              "    </tr>\n",
              "    <tr>\n",
              "      <th>501</th>\n",
              "      <td>0.06263</td>\n",
              "      <td>0.0</td>\n",
              "      <td>11.93</td>\n",
              "      <td>0</td>\n",
              "      <td>0.573</td>\n",
              "      <td>6.593</td>\n",
              "      <td>69.1</td>\n",
              "      <td>2.4786</td>\n",
              "      <td>1</td>\n",
              "      <td>273.0</td>\n",
              "      <td>21.0</td>\n",
              "      <td>391.99</td>\n",
              "      <td>9.67</td>\n",
              "      <td>22.4</td>\n",
              "    </tr>\n",
              "    <tr>\n",
              "      <th>502</th>\n",
              "      <td>0.04527</td>\n",
              "      <td>0.0</td>\n",
              "      <td>11.93</td>\n",
              "      <td>0</td>\n",
              "      <td>0.573</td>\n",
              "      <td>6.120</td>\n",
              "      <td>76.7</td>\n",
              "      <td>2.2875</td>\n",
              "      <td>1</td>\n",
              "      <td>273.0</td>\n",
              "      <td>21.0</td>\n",
              "      <td>396.90</td>\n",
              "      <td>9.08</td>\n",
              "      <td>20.6</td>\n",
              "    </tr>\n",
              "    <tr>\n",
              "      <th>503</th>\n",
              "      <td>0.06076</td>\n",
              "      <td>0.0</td>\n",
              "      <td>11.93</td>\n",
              "      <td>0</td>\n",
              "      <td>0.573</td>\n",
              "      <td>6.976</td>\n",
              "      <td>91.0</td>\n",
              "      <td>2.1675</td>\n",
              "      <td>1</td>\n",
              "      <td>273.0</td>\n",
              "      <td>21.0</td>\n",
              "      <td>396.90</td>\n",
              "      <td>5.64</td>\n",
              "      <td>23.9</td>\n",
              "    </tr>\n",
              "    <tr>\n",
              "      <th>504</th>\n",
              "      <td>0.10959</td>\n",
              "      <td>0.0</td>\n",
              "      <td>11.93</td>\n",
              "      <td>0</td>\n",
              "      <td>0.573</td>\n",
              "      <td>6.794</td>\n",
              "      <td>89.3</td>\n",
              "      <td>2.3889</td>\n",
              "      <td>1</td>\n",
              "      <td>273.0</td>\n",
              "      <td>21.0</td>\n",
              "      <td>393.45</td>\n",
              "      <td>6.48</td>\n",
              "      <td>22.0</td>\n",
              "    </tr>\n",
              "    <tr>\n",
              "      <th>505</th>\n",
              "      <td>0.04741</td>\n",
              "      <td>0.0</td>\n",
              "      <td>11.93</td>\n",
              "      <td>0</td>\n",
              "      <td>0.573</td>\n",
              "      <td>6.030</td>\n",
              "      <td>80.8</td>\n",
              "      <td>2.5050</td>\n",
              "      <td>1</td>\n",
              "      <td>273.0</td>\n",
              "      <td>21.0</td>\n",
              "      <td>396.90</td>\n",
              "      <td>7.88</td>\n",
              "      <td>11.9</td>\n",
              "    </tr>\n",
              "  </tbody>\n",
              "</table>\n",
              "<p>506 rows × 14 columns</p>\n",
              "</div>"
            ],
            "text/plain": [
              "        CRIM    ZN  INDUS  CHAS    NOX  ...    TAX  PTRATIO       B  LSTAT   TGT\n",
              "0    0.00632  18.0   2.31     0  0.538  ...  296.0     15.3  396.90   4.98  24.0\n",
              "1    0.02731   0.0   7.07     0  0.469  ...  242.0     17.8  396.90   9.14  21.6\n",
              "2    0.02729   0.0   7.07     0  0.469  ...  242.0     17.8  392.83   4.03  34.7\n",
              "3    0.03237   0.0   2.18     0  0.458  ...  222.0     18.7  394.63   2.94  33.4\n",
              "4    0.06905   0.0   2.18     0  0.458  ...  222.0     18.7  396.90   5.33  36.2\n",
              "..       ...   ...    ...   ...    ...  ...    ...      ...     ...    ...   ...\n",
              "501  0.06263   0.0  11.93     0  0.573  ...  273.0     21.0  391.99   9.67  22.4\n",
              "502  0.04527   0.0  11.93     0  0.573  ...  273.0     21.0  396.90   9.08  20.6\n",
              "503  0.06076   0.0  11.93     0  0.573  ...  273.0     21.0  396.90   5.64  23.9\n",
              "504  0.10959   0.0  11.93     0  0.573  ...  273.0     21.0  393.45   6.48  22.0\n",
              "505  0.04741   0.0  11.93     0  0.573  ...  273.0     21.0  396.90   7.88  11.9\n",
              "\n",
              "[506 rows x 14 columns]"
            ]
          },
          "metadata": {
            "tags": []
          },
          "execution_count": 53
        }
      ]
    },
    {
      "cell_type": "markdown",
      "metadata": {
        "id": "SKWDDSx01sTp"
      },
      "source": [
        "1. Zentrierung"
      ]
    },
    {
      "cell_type": "code",
      "metadata": {
        "id": "yEGCI_tyg8df"
      },
      "source": [
        "def intrinsic_value(X):\n",
        "  dim_n = X.shape[0]\n",
        "  mean= np.mean(X, axis=0)\n",
        "  std= np.std(X, axis=0)\n",
        "  X_std = (X-mean)/std\n",
        "  u, d, vt = np.linalg.svd(X_std)\n",
        "  eigenwerte = d**2/(dim_n-1)\n",
        "  return eigenwerte, X_std, u, d, vt\n"
      ],
      "execution_count": null,
      "outputs": []
    },
    {
      "cell_type": "code",
      "metadata": {
        "id": "YLeOxSU6iT0Q"
      },
      "source": [
        "result = pd.DataFrame(columns=[\"Eigenw. Covarianz-Matrix\", \"Erklärte Varianz\", \"Kumulative Erklärte Varianz\"])"
      ],
      "execution_count": null,
      "outputs": []
    },
    {
      "cell_type": "code",
      "metadata": {
        "id": "FQ44MJnghm2s"
      },
      "source": [
        "eigenwerte, X_std, u, d, vt = intrinsic_value(boston_raw)\n",
        "eigenwerte\n",
        "\n",
        "result.iloc[:, 0] = eigenwerte"
      ],
      "execution_count": null,
      "outputs": []
    },
    {
      "cell_type": "markdown",
      "metadata": {
        "id": "EhQXh8Bci9G_"
      },
      "source": [
        "Erlärte Varianz"
      ]
    },
    {
      "cell_type": "code",
      "metadata": {
        "id": "ngnbrbASjFDI"
      },
      "source": [
        "gesamtvarianz = sum(eigenwerte)\n",
        "erklaerte_varianz = [(i / gesamtvarianz) for i in eigenwerte]\n",
        "\n",
        "result.iloc[:, 1] = erklaerte_varianz"
      ],
      "execution_count": null,
      "outputs": []
    },
    {
      "cell_type": "code",
      "metadata": {
        "id": "Z-qxYFlCjrCX",
        "outputId": "e630c7f2-8022-4cf8-96bf-b59de4f4d649",
        "colab": {
          "base_uri": "https://localhost:8080/",
          "height": 483
        }
      },
      "source": [
        "result"
      ],
      "execution_count": null,
      "outputs": [
        {
          "output_type": "execute_result",
          "data": {
            "text/html": [
              "<div>\n",
              "<style scoped>\n",
              "    .dataframe tbody tr th:only-of-type {\n",
              "        vertical-align: middle;\n",
              "    }\n",
              "\n",
              "    .dataframe tbody tr th {\n",
              "        vertical-align: top;\n",
              "    }\n",
              "\n",
              "    .dataframe thead th {\n",
              "        text-align: right;\n",
              "    }\n",
              "</style>\n",
              "<table border=\"1\" class=\"dataframe\">\n",
              "  <thead>\n",
              "    <tr style=\"text-align: right;\">\n",
              "      <th></th>\n",
              "      <th>Eigenw. Covarianz-Matrix</th>\n",
              "      <th>Erklärte Varianz</th>\n",
              "      <th>Kumulative Erklärte Varianz</th>\n",
              "    </tr>\n",
              "  </thead>\n",
              "  <tbody>\n",
              "    <tr>\n",
              "      <th>0</th>\n",
              "      <td>6.558952</td>\n",
              "      <td>0.467571</td>\n",
              "      <td>NaN</td>\n",
              "    </tr>\n",
              "    <tr>\n",
              "      <th>1</th>\n",
              "      <td>1.652798</td>\n",
              "      <td>0.117824</td>\n",
              "      <td>NaN</td>\n",
              "    </tr>\n",
              "    <tr>\n",
              "      <th>2</th>\n",
              "      <td>1.351577</td>\n",
              "      <td>0.096350</td>\n",
              "      <td>NaN</td>\n",
              "    </tr>\n",
              "    <tr>\n",
              "      <th>3</th>\n",
              "      <td>0.888295</td>\n",
              "      <td>0.063324</td>\n",
              "      <td>NaN</td>\n",
              "    </tr>\n",
              "    <tr>\n",
              "      <th>4</th>\n",
              "      <td>0.852584</td>\n",
              "      <td>0.060779</td>\n",
              "      <td>NaN</td>\n",
              "    </tr>\n",
              "    <tr>\n",
              "      <th>5</th>\n",
              "      <td>0.661318</td>\n",
              "      <td>0.047144</td>\n",
              "      <td>NaN</td>\n",
              "    </tr>\n",
              "    <tr>\n",
              "      <th>6</th>\n",
              "      <td>0.536471</td>\n",
              "      <td>0.038244</td>\n",
              "      <td>NaN</td>\n",
              "    </tr>\n",
              "    <tr>\n",
              "      <th>7</th>\n",
              "      <td>0.403875</td>\n",
              "      <td>0.028791</td>\n",
              "      <td>NaN</td>\n",
              "    </tr>\n",
              "    <tr>\n",
              "      <th>8</th>\n",
              "      <td>0.277813</td>\n",
              "      <td>0.019805</td>\n",
              "      <td>NaN</td>\n",
              "    </tr>\n",
              "    <tr>\n",
              "      <th>9</th>\n",
              "      <td>0.252757</td>\n",
              "      <td>0.018018</td>\n",
              "      <td>NaN</td>\n",
              "    </tr>\n",
              "    <tr>\n",
              "      <th>10</th>\n",
              "      <td>0.213212</td>\n",
              "      <td>0.015199</td>\n",
              "      <td>NaN</td>\n",
              "    </tr>\n",
              "    <tr>\n",
              "      <th>11</th>\n",
              "      <td>0.183350</td>\n",
              "      <td>0.013071</td>\n",
              "      <td>NaN</td>\n",
              "    </tr>\n",
              "    <tr>\n",
              "      <th>12</th>\n",
              "      <td>0.134275</td>\n",
              "      <td>0.009572</td>\n",
              "      <td>NaN</td>\n",
              "    </tr>\n",
              "    <tr>\n",
              "      <th>13</th>\n",
              "      <td>0.060446</td>\n",
              "      <td>0.004309</td>\n",
              "      <td>NaN</td>\n",
              "    </tr>\n",
              "  </tbody>\n",
              "</table>\n",
              "</div>"
            ],
            "text/plain": [
              "    Eigenw. Covarianz-Matrix  Erklärte Varianz Kumulative Erklärte Varianz\n",
              "0                   6.558952          0.467571                         NaN\n",
              "1                   1.652798          0.117824                         NaN\n",
              "2                   1.351577          0.096350                         NaN\n",
              "3                   0.888295          0.063324                         NaN\n",
              "4                   0.852584          0.060779                         NaN\n",
              "5                   0.661318          0.047144                         NaN\n",
              "6                   0.536471          0.038244                         NaN\n",
              "7                   0.403875          0.028791                         NaN\n",
              "8                   0.277813          0.019805                         NaN\n",
              "9                   0.252757          0.018018                         NaN\n",
              "10                  0.213212          0.015199                         NaN\n",
              "11                  0.183350          0.013071                         NaN\n",
              "12                  0.134275          0.009572                         NaN\n",
              "13                  0.060446          0.004309                         NaN"
            ]
          },
          "metadata": {
            "tags": []
          },
          "execution_count": 58
        }
      ]
    },
    {
      "cell_type": "markdown",
      "metadata": {
        "id": "FhYt34-6j1O3"
      },
      "source": [
        "Kumulative erlärte Varianz"
      ]
    },
    {
      "cell_type": "code",
      "metadata": {
        "id": "n0QGh5Spj93G"
      },
      "source": [
        "kumulative_erklaerte_varianz = []\n",
        "\n",
        "for i in range(len(erklaerte_varianz)):\n",
        "  if i == 0:\n",
        "    kumulative_erklaerte_varianz.append(erklaerte_varianz[i])\n",
        "  else:\n",
        "    kumulative_erklaerte_varianz.append(kumulative_erklaerte_varianz[i-1]+erklaerte_varianz[i])\n",
        "\n",
        "result.iloc[:, 2] = kumulative_erklaerte_varianz"
      ],
      "execution_count": null,
      "outputs": []
    },
    {
      "cell_type": "code",
      "metadata": {
        "id": "-gJoVUOVkwd_",
        "outputId": "dfa230ae-4a34-406b-ae24-c53b5f97048c",
        "colab": {
          "base_uri": "https://localhost:8080/",
          "height": 483
        }
      },
      "source": [
        "result"
      ],
      "execution_count": null,
      "outputs": [
        {
          "output_type": "execute_result",
          "data": {
            "text/html": [
              "<div>\n",
              "<style scoped>\n",
              "    .dataframe tbody tr th:only-of-type {\n",
              "        vertical-align: middle;\n",
              "    }\n",
              "\n",
              "    .dataframe tbody tr th {\n",
              "        vertical-align: top;\n",
              "    }\n",
              "\n",
              "    .dataframe thead th {\n",
              "        text-align: right;\n",
              "    }\n",
              "</style>\n",
              "<table border=\"1\" class=\"dataframe\">\n",
              "  <thead>\n",
              "    <tr style=\"text-align: right;\">\n",
              "      <th></th>\n",
              "      <th>Eigenw. Covarianz-Matrix</th>\n",
              "      <th>Erklärte Varianz</th>\n",
              "      <th>Kumulative Erklärte Varianz</th>\n",
              "    </tr>\n",
              "  </thead>\n",
              "  <tbody>\n",
              "    <tr>\n",
              "      <th>0</th>\n",
              "      <td>6.558952</td>\n",
              "      <td>0.467571</td>\n",
              "      <td>0.467571</td>\n",
              "    </tr>\n",
              "    <tr>\n",
              "      <th>1</th>\n",
              "      <td>1.652798</td>\n",
              "      <td>0.117824</td>\n",
              "      <td>0.585394</td>\n",
              "    </tr>\n",
              "    <tr>\n",
              "      <th>2</th>\n",
              "      <td>1.351577</td>\n",
              "      <td>0.096350</td>\n",
              "      <td>0.681745</td>\n",
              "    </tr>\n",
              "    <tr>\n",
              "      <th>3</th>\n",
              "      <td>0.888295</td>\n",
              "      <td>0.063324</td>\n",
              "      <td>0.745069</td>\n",
              "    </tr>\n",
              "    <tr>\n",
              "      <th>4</th>\n",
              "      <td>0.852584</td>\n",
              "      <td>0.060779</td>\n",
              "      <td>0.805848</td>\n",
              "    </tr>\n",
              "    <tr>\n",
              "      <th>5</th>\n",
              "      <td>0.661318</td>\n",
              "      <td>0.047144</td>\n",
              "      <td>0.852991</td>\n",
              "    </tr>\n",
              "    <tr>\n",
              "      <th>6</th>\n",
              "      <td>0.536471</td>\n",
              "      <td>0.038244</td>\n",
              "      <td>0.891235</td>\n",
              "    </tr>\n",
              "    <tr>\n",
              "      <th>7</th>\n",
              "      <td>0.403875</td>\n",
              "      <td>0.028791</td>\n",
              "      <td>0.920026</td>\n",
              "    </tr>\n",
              "    <tr>\n",
              "      <th>8</th>\n",
              "      <td>0.277813</td>\n",
              "      <td>0.019805</td>\n",
              "      <td>0.939831</td>\n",
              "    </tr>\n",
              "    <tr>\n",
              "      <th>9</th>\n",
              "      <td>0.252757</td>\n",
              "      <td>0.018018</td>\n",
              "      <td>0.957849</td>\n",
              "    </tr>\n",
              "    <tr>\n",
              "      <th>10</th>\n",
              "      <td>0.213212</td>\n",
              "      <td>0.015199</td>\n",
              "      <td>0.973048</td>\n",
              "    </tr>\n",
              "    <tr>\n",
              "      <th>11</th>\n",
              "      <td>0.183350</td>\n",
              "      <td>0.013071</td>\n",
              "      <td>0.986119</td>\n",
              "    </tr>\n",
              "    <tr>\n",
              "      <th>12</th>\n",
              "      <td>0.134275</td>\n",
              "      <td>0.009572</td>\n",
              "      <td>0.995691</td>\n",
              "    </tr>\n",
              "    <tr>\n",
              "      <th>13</th>\n",
              "      <td>0.060446</td>\n",
              "      <td>0.004309</td>\n",
              "      <td>1.000000</td>\n",
              "    </tr>\n",
              "  </tbody>\n",
              "</table>\n",
              "</div>"
            ],
            "text/plain": [
              "    Eigenw. Covarianz-Matrix  Erklärte Varianz  Kumulative Erklärte Varianz\n",
              "0                   6.558952          0.467571                     0.467571\n",
              "1                   1.652798          0.117824                     0.585394\n",
              "2                   1.351577          0.096350                     0.681745\n",
              "3                   0.888295          0.063324                     0.745069\n",
              "4                   0.852584          0.060779                     0.805848\n",
              "5                   0.661318          0.047144                     0.852991\n",
              "6                   0.536471          0.038244                     0.891235\n",
              "7                   0.403875          0.028791                     0.920026\n",
              "8                   0.277813          0.019805                     0.939831\n",
              "9                   0.252757          0.018018                     0.957849\n",
              "10                  0.213212          0.015199                     0.973048\n",
              "11                  0.183350          0.013071                     0.986119\n",
              "12                  0.134275          0.009572                     0.995691\n",
              "13                  0.060446          0.004309                     1.000000"
            ]
          },
          "metadata": {
            "tags": []
          },
          "execution_count": 60
        }
      ]
    },
    {
      "cell_type": "markdown",
      "metadata": {
        "id": "MqYzABpIlXAg"
      },
      "source": [
        "#### Fehler bei Dimensionsreduktion\n",
        "10\\%: die letzten 6 Dimensionen kann man weg lassen \\\\\n",
        "5\\%: die letzten 4 Dimensionen kann man weg lassen \\\\\n",
        "1\\%: die letzte Dimensionen kann man weg lassen \\\\"
      ]
    },
    {
      "cell_type": "markdown",
      "metadata": {
        "id": "v-TKDmgWl3r3"
      },
      "source": [
        "c.) Korrelationskoeffizienten der Projektionen auf die ersten drei Hauptkomponenten"
      ]
    },
    {
      "cell_type": "code",
      "metadata": {
        "id": "YQtpZpBEBQHD",
        "outputId": "ec6bd3be-1cad-4edd-aeff-98e859b512f6",
        "colab": {
          "base_uri": "https://localhost:8080/"
        }
      },
      "source": [
        "d_richtig = np.zeros((X_std.shape[0], X_std.shape[1]))\n",
        "for i in range(14):\n",
        "  d_richtig[i, i] = d[i]\n",
        "# print(d_richtig[13, 13])\n",
        "# print(d[13])\n",
        "print(d_richtig.shape)"
      ],
      "execution_count": null,
      "outputs": [
        {
          "output_type": "stream",
          "text": [
            "(506, 14)\n"
          ],
          "name": "stdout"
        }
      ]
    },
    {
      "cell_type": "code",
      "metadata": {
        "id": "1taP6zhlBKhq",
        "outputId": "092806d5-e82e-4f43-af17-612dce8cdfdb",
        "colab": {
          "base_uri": "https://localhost:8080/"
        }
      },
      "source": [
        "ud = np.dot(u, d_richtig)\n",
        "ud.shape"
      ],
      "execution_count": null,
      "outputs": [
        {
          "output_type": "execute_result",
          "data": {
            "text/plain": [
              "(506, 14)"
            ]
          },
          "metadata": {
            "tags": []
          },
          "execution_count": 62
        }
      ]
    },
    {
      "cell_type": "code",
      "metadata": {
        "id": "8ovoBBj2Bu5b",
        "outputId": "a1965924-dad1-4366-cd4b-cf1de6484259",
        "colab": {
          "base_uri": "https://localhost:8080/"
        }
      },
      "source": [
        "projection_3 = ud[:, 0:3]\n",
        "projection_3.shape"
      ],
      "execution_count": null,
      "outputs": [
        {
          "output_type": "execute_result",
          "data": {
            "text/plain": [
              "(506, 3)"
            ]
          },
          "metadata": {
            "tags": []
          },
          "execution_count": 63
        }
      ]
    },
    {
      "cell_type": "code",
      "metadata": {
        "id": "di1_Epb8nzZd"
      },
      "source": [
        "v = vt.T\n",
        "projection_3_old = np.dot(X_std, v[:, 0:3])"
      ],
      "execution_count": null,
      "outputs": []
    },
    {
      "cell_type": "code",
      "metadata": {
        "id": "ctU7Z-yvFAAL",
        "outputId": "dd80b0f7-033a-4896-e412-4f27ac1d5bb7",
        "colab": {
          "base_uri": "https://localhost:8080/",
          "height": 142
        }
      },
      "source": [
        "projection_3_df_old = pd.DataFrame(data=projection_3, columns=[\"1\", \"2\", \"3\"])\n",
        "projection_3_df_old.corr()\n",
        "\n",
        "projection_3_df = pd.DataFrame(data=projection_3, columns=[\"1\", \"2\", \"3\"])\n",
        "projection_3_df.corr()"
      ],
      "execution_count": null,
      "outputs": [
        {
          "output_type": "execute_result",
          "data": {
            "text/html": [
              "<div>\n",
              "<style scoped>\n",
              "    .dataframe tbody tr th:only-of-type {\n",
              "        vertical-align: middle;\n",
              "    }\n",
              "\n",
              "    .dataframe tbody tr th {\n",
              "        vertical-align: top;\n",
              "    }\n",
              "\n",
              "    .dataframe thead th {\n",
              "        text-align: right;\n",
              "    }\n",
              "</style>\n",
              "<table border=\"1\" class=\"dataframe\">\n",
              "  <thead>\n",
              "    <tr style=\"text-align: right;\">\n",
              "      <th></th>\n",
              "      <th>1</th>\n",
              "      <th>2</th>\n",
              "      <th>3</th>\n",
              "    </tr>\n",
              "  </thead>\n",
              "  <tbody>\n",
              "    <tr>\n",
              "      <th>1</th>\n",
              "      <td>1.000000e+00</td>\n",
              "      <td>1.128022e-16</td>\n",
              "      <td>-5.989757e-16</td>\n",
              "    </tr>\n",
              "    <tr>\n",
              "      <th>2</th>\n",
              "      <td>1.128022e-16</td>\n",
              "      <td>1.000000e+00</td>\n",
              "      <td>-1.315001e-16</td>\n",
              "    </tr>\n",
              "    <tr>\n",
              "      <th>3</th>\n",
              "      <td>-5.989757e-16</td>\n",
              "      <td>-1.315001e-16</td>\n",
              "      <td>1.000000e+00</td>\n",
              "    </tr>\n",
              "  </tbody>\n",
              "</table>\n",
              "</div>"
            ],
            "text/plain": [
              "              1             2             3\n",
              "1  1.000000e+00  1.128022e-16 -5.989757e-16\n",
              "2  1.128022e-16  1.000000e+00 -1.315001e-16\n",
              "3 -5.989757e-16 -1.315001e-16  1.000000e+00"
            ]
          },
          "metadata": {
            "tags": []
          },
          "execution_count": 65
        }
      ]
    },
    {
      "cell_type": "code",
      "metadata": {
        "id": "0IlTbn7XtqlC",
        "outputId": "df588ddd-32d9-4920-a192-105d65ed527a",
        "colab": {
          "base_uri": "https://localhost:8080/"
        }
      },
      "source": [
        "projection_3.shape"
      ],
      "execution_count": null,
      "outputs": [
        {
          "output_type": "execute_result",
          "data": {
            "text/plain": [
              "(506, 3)"
            ]
          },
          "metadata": {
            "tags": []
          },
          "execution_count": 66
        }
      ]
    },
    {
      "cell_type": "code",
      "metadata": {
        "id": "rW3DHcZxsy1R",
        "outputId": "fd65dcf4-4c8f-427e-a4e6-6ceaf3408dbb",
        "colab": {
          "base_uri": "https://localhost:8080/",
          "height": 142
        }
      },
      "source": [
        "projection_3_df_old.corr()"
      ],
      "execution_count": null,
      "outputs": [
        {
          "output_type": "execute_result",
          "data": {
            "text/html": [
              "<div>\n",
              "<style scoped>\n",
              "    .dataframe tbody tr th:only-of-type {\n",
              "        vertical-align: middle;\n",
              "    }\n",
              "\n",
              "    .dataframe tbody tr th {\n",
              "        vertical-align: top;\n",
              "    }\n",
              "\n",
              "    .dataframe thead th {\n",
              "        text-align: right;\n",
              "    }\n",
              "</style>\n",
              "<table border=\"1\" class=\"dataframe\">\n",
              "  <thead>\n",
              "    <tr style=\"text-align: right;\">\n",
              "      <th></th>\n",
              "      <th>1</th>\n",
              "      <th>2</th>\n",
              "      <th>3</th>\n",
              "    </tr>\n",
              "  </thead>\n",
              "  <tbody>\n",
              "    <tr>\n",
              "      <th>1</th>\n",
              "      <td>1.000000e+00</td>\n",
              "      <td>1.128022e-16</td>\n",
              "      <td>-5.989757e-16</td>\n",
              "    </tr>\n",
              "    <tr>\n",
              "      <th>2</th>\n",
              "      <td>1.128022e-16</td>\n",
              "      <td>1.000000e+00</td>\n",
              "      <td>-1.315001e-16</td>\n",
              "    </tr>\n",
              "    <tr>\n",
              "      <th>3</th>\n",
              "      <td>-5.989757e-16</td>\n",
              "      <td>-1.315001e-16</td>\n",
              "      <td>1.000000e+00</td>\n",
              "    </tr>\n",
              "  </tbody>\n",
              "</table>\n",
              "</div>"
            ],
            "text/plain": [
              "              1             2             3\n",
              "1  1.000000e+00  1.128022e-16 -5.989757e-16\n",
              "2  1.128022e-16  1.000000e+00 -1.315001e-16\n",
              "3 -5.989757e-16 -1.315001e-16  1.000000e+00"
            ]
          },
          "metadata": {
            "tags": []
          },
          "execution_count": 67
        }
      ]
    },
    {
      "cell_type": "markdown",
      "metadata": {
        "id": "lsxErVIBk0nT"
      },
      "source": [
        "Ergebnis: kaum Korrelation zwischen den neuen Variablen"
      ]
    },
    {
      "cell_type": "markdown",
      "metadata": {
        "id": "JfbmnOmvXSrI"
      },
      "source": [
        "d.) Scatterplot"
      ]
    },
    {
      "cell_type": "code",
      "metadata": {
        "id": "nZHkuYX6gcwk"
      },
      "source": [
        "# add tgt to projection dataframe\n",
        "tgt_df = pd.DataFrame(data=X_std, columns=[\"TGT\"])\n",
        "projection_3_df.insert(0, \"TGT\", tgt_df, True)"
      ],
      "execution_count": null,
      "outputs": []
    },
    {
      "cell_type": "code",
      "metadata": {
        "id": "a9cMIEntjMCL",
        "outputId": "36aab84f-f96a-4d74-8d15-577f0247a64a",
        "colab": {
          "base_uri": "https://localhost:8080/"
        }
      },
      "source": [
        "boston_median = projection_3_df['TGT'].median()\n",
        "boston_median"
      ],
      "execution_count": null,
      "outputs": [
        {
          "output_type": "execute_result",
          "data": {
            "text/plain": [
              "-0.14505927833706728"
            ]
          },
          "metadata": {
            "tags": []
          },
          "execution_count": 76
        }
      ]
    },
    {
      "cell_type": "code",
      "metadata": {
        "id": "81C5dZ33uZmn",
        "outputId": "877b189c-9ded-453c-ac75-887a39500246",
        "colab": {
          "base_uri": "https://localhost:8080/",
          "height": 296
        }
      },
      "source": [
        "color = np.where(projection_3_df[\"TGT\"]<boston_median, 'r', 'b')\n",
        "\n",
        "projection_3_df.plot.scatter(x='1', y='TGT', c=color)"
      ],
      "execution_count": null,
      "outputs": [
        {
          "output_type": "execute_result",
          "data": {
            "text/plain": [
              "<matplotlib.axes._subplots.AxesSubplot at 0x7f8253538eb8>"
            ]
          },
          "metadata": {
            "tags": []
          },
          "execution_count": 78
        },
        {
          "output_type": "display_data",
          "data": {
            "image/png": "[encoded data removed]",
            "text/plain": [
              "<Figure size 432x288 with 1 Axes>"
            ]
          },
          "metadata": {
            "tags": [],
            "needs_background": "light"
          }
        }
      ]
    },
    {
      "cell_type": "code",
      "metadata": {
        "id": "7HtJ0SSqjVaa",
        "outputId": "f60e2d06-aa9a-4856-c732-7ee086a054ef",
        "colab": {
          "base_uri": "https://localhost:8080/",
          "height": 296
        }
      },
      "source": [
        "projection_3_df.plot.scatter(x='2', y='TGT', c=color)"
      ],
      "execution_count": null,
      "outputs": [
        {
          "output_type": "execute_result",
          "data": {
            "text/plain": [
              "<matplotlib.axes._subplots.AxesSubplot at 0x7f8253244f28>"
            ]
          },
          "metadata": {
            "tags": []
          },
          "execution_count": 79
        },
        {
          "output_type": "display_data",
          "data": {
            "image/png": "[encoded data removed]",
            "text/plain": [
              "<Figure size 432x288 with 1 Axes>"
            ]
          },
          "metadata": {
            "tags": [],
            "needs_background": "light"
          }
        }
      ]
    },
    {
      "cell_type": "code",
      "metadata": {
        "id": "FoY-Z8yHk_Op"
      },
      "source": [
        "Ergebnis: linearer Zusammenhang erkennbar mit den neuen Variablen und TGT"
      ],
      "execution_count": null,
      "outputs": []
    },
    {
      "cell_type": "markdown",
      "metadata": {
        "id": "yc5oMLA76tO5"
      },
      "source": [
        "\\\\\n",
        "\n",
        "\\\\\n",
        "\n",
        "\\\\\n",
        "\n",
        "\\\\\n",
        "\n",
        "\\\\\n",
        "\n",
        "\\\\\n",
        "\n",
        "\\\\\n",
        "\n",
        "\\\\\n",
        "\n",
        "---"
      ]
    },
    {
      "cell_type": "code",
      "metadata": {
        "id": "s148vlacTHKd",
        "outputId": "4e3e256c-71b0-4fab-dc37-a2de2732c641",
        "colab": {
          "base_uri": "https://localhost:8080/"
        }
      },
      "source": [
        "d_richtig = np.zeros((boston.shape[0], boston.shape[1]))\n",
        "for i in range(14):\n",
        "  d_richtig[i, i] = d[i]\n",
        "print(d_richtig[13, 13])\n",
        "print(d[13])\n",
        "print(d_richtig.shape)"
      ],
      "execution_count": null,
      "outputs": [
        {
          "output_type": "stream",
          "text": [
            "5.524969597469402\n",
            "5.524969597469402\n",
            "(506, 14)\n"
          ],
          "name": "stdout"
        }
      ]
    },
    {
      "cell_type": "code",
      "metadata": {
        "id": "zQ9z-ee-cecs"
      },
      "source": [
        "# d_richtig = np.diag(d)\n",
        "# d_richtig.shape"
      ],
      "execution_count": null,
      "outputs": []
    },
    {
      "cell_type": "code",
      "metadata": {
        "id": "Pa9ztpK4Uacu"
      },
      "source": [
        "ud = np.dot(u, d_richtig)\n",
        "ud[0]"
      ],
      "execution_count": null,
      "outputs": []
    },
    {
      "cell_type": "code",
      "metadata": {
        "id": "Lm5UqwOlfm1L",
        "outputId": "c986a255-20b8-4e80-9cca-532ec7337de4",
        "colab": {
          "base_uri": "https://localhost:8080/",
          "height": 163
        }
      },
      "source": [
        "np.dot(np_boston[0], v.T[:, 0:10])"
      ],
      "execution_count": null,
      "outputs": [
        {
          "output_type": "error",
          "ename": "NameError",
          "evalue": "ignored",
          "traceback": [
            "\u001b[0;31m---------------------------------------------------------------------------\u001b[0m",
            "\u001b[0;31mNameError\u001b[0m                                 Traceback (most recent call last)",
            "\u001b[0;32m<ipython-input-82-19b24df16771>\u001b[0m in \u001b[0;36m<module>\u001b[0;34m()\u001b[0m\n\u001b[0;32m----> 1\u001b[0;31m \u001b[0mnp\u001b[0m\u001b[0;34m.\u001b[0m\u001b[0mdot\u001b[0m\u001b[0;34m(\u001b[0m\u001b[0mnp_boston\u001b[0m\u001b[0;34m[\u001b[0m\u001b[0;36m0\u001b[0m\u001b[0;34m]\u001b[0m\u001b[0;34m,\u001b[0m \u001b[0mv\u001b[0m\u001b[0;34m.\u001b[0m\u001b[0mT\u001b[0m\u001b[0;34m[\u001b[0m\u001b[0;34m:\u001b[0m\u001b[0;34m,\u001b[0m \u001b[0;36m0\u001b[0m\u001b[0;34m:\u001b[0m\u001b[0;36m10\u001b[0m\u001b[0;34m]\u001b[0m\u001b[0;34m)\u001b[0m\u001b[0;34m\u001b[0m\u001b[0;34m\u001b[0m\u001b[0m\n\u001b[0m",
            "\u001b[0;31mNameError\u001b[0m: name 'np_boston' is not defined"
          ]
        }
      ]
    }
  ]
}