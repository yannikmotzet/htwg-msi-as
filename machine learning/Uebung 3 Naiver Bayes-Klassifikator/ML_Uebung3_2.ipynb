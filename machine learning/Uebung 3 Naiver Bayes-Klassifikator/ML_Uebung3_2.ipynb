{
  "nbformat": 4,
  "nbformat_minor": 0,
  "metadata": {
    "colab": {
      "name": "ML_Uebung2_2.ipynb",
      "provenance": []
    },
    "kernelspec": {
      "name": "python3",
      "display_name": "Python 3.7.8 64-bit",
      "metadata": {
        "interpreter": {
          "hash": "b91c648c8d178b3a8c53b7c1eef39205da696c8114decdad0816de224628f1d0"
        }
      }
    }
  },
  "cells": [
    {
      "source": [
        "### group members\n",
        "* Max Dunger\n",
        "* [Yannik Motzet](mailto:yannik.motzet@outlook.com)\n",
        "\n",
        "# Übung 3: Naiver Bayesklassifikator\n",
        "## 2. Textklassifikation"
      ],
      "cell_type": "markdown",
      "metadata": {}
    },
    {
      "cell_type": "code",
      "execution_count": 1,
      "metadata": {},
      "outputs": [],
      "source": [
        "import tarfile\n",
        "import os\n",
        "import re\n",
        "import numpy as np"
      ]
    },
    {
      "source": [
        "a.) Extract raw data"
      ],
      "cell_type": "markdown",
      "metadata": {}
    },
    {
      "cell_type": "code",
      "execution_count": null,
      "metadata": {},
      "outputs": [],
      "source": [
        "tar = tarfile.open(\"20news-18828.tar.gz\", \"r:gz\")\n",
        "tar.extractall()\n",
        "tar.close()"
      ]
    },
    {
      "source": [
        "b.) Load Data"
      ],
      "cell_type": "markdown",
      "metadata": {}
    },
    {
      "cell_type": "code",
      "execution_count": 2,
      "metadata": {
        "tags": []
      },
      "outputs": [
        {
          "output_type": "stream",
          "name": "stdout",
          "text": [
            "done: 3387 entries\n"
          ]
        }
      ],
      "source": [
        "relevant_newsgroups = ['alt.atheism', 'comp.graphics', 'sci.space', 'talk.religion.misc']\n",
        "top_directory = r'.\\20news-18828'\n",
        "\n",
        "data = []\n",
        "data_class = []\n",
        "\n",
        "for newsgroup in relevant_newsgroups:\n",
        "    directory = top_directory + '\\\\' + newsgroup\n",
        "    \n",
        "    for file in os.listdir(directory):\n",
        "        file_path = directory + '//' + file\n",
        "        f = open(file_path ,\"r\")\n",
        "        file_string = f.read()\n",
        "        data.append(file_string)\n",
        "        data_class.append(newsgroup)\n",
        "print('done: ' + str(len(data)) + ' entries')"
      ]
    },
    {
      "cell_type": "code",
      "execution_count": 3,
      "metadata": {},
      "outputs": [],
      "source": [
        "# delete first two lines\n",
        "def strip_header(text):\n",
        "    _before , _blankline , after = text.partition ('\\n\\n')\n",
        "    return after\n",
        "data = [strip_header(text) for text in data]"
      ]
    },
    {
      "source": [
        "c.) Token"
      ],
      "cell_type": "markdown",
      "metadata": {}
    },
    {
      "cell_type": "code",
      "execution_count": 4,
      "metadata": {},
      "outputs": [],
      "source": [
        "token = []\n",
        "for element in data:\n",
        "    l = re.compile(r\"(?u)\\b\\w\\w+\\b\").findall(element.lower())\n",
        "    token.extend(l)\n",
        "\n",
        "features = set(token)\n",
        "features = list(features)"
      ]
    },
    {
      "cell_type": "code",
      "execution_count": 5,
      "metadata": {},
      "outputs": [],
      "source": [
        "# design-matrix\n",
        "data_frequency = np.empty((len(data), len(features)))\n",
        "\n",
        "for i in range(len(data)):\n",
        "    for j in range(len(features)):\n",
        "        data_frequency[i, j] = data[i].count(features[j])"
      ]
    },
    {
      "cell_type": "code",
      "execution_count": 6,
      "metadata": {},
      "outputs": [],
      "source": [
        "# training / test set\n",
        "border = int(0.6 * data_frequency.shape[0])\n",
        "\n",
        "training_data = data_frequency[0:border, :]\n",
        "training_data_class = data_class[0:border]\n",
        "\n",
        "validation_data = data_frequency[border+1:, :]\n",
        "validation_data_class = data_class[border+1:]"
      ]
    },
    {
      "source": [
        "d.)  naiven Bayes-Klassifikator"
      ],
      "cell_type": "markdown",
      "metadata": {}
    },
    {
      "cell_type": "code",
      "execution_count": 7,
      "metadata": {},
      "outputs": [],
      "source": [
        "a_priori = []\n",
        "\n",
        "for newsgroup in relevant_newsgroups:\n",
        "    number = 0\n",
        "    for i in range(len(training_data)):\n",
        "        if training_data_class[i] == newsgroup:\n",
        "            number += 1\n",
        "    a_priori.append(number/2032)"
      ]
    },
    {
      "source": [
        "Berechnung wie weit Klassen gehen"
      ],
      "cell_type": "markdown",
      "metadata": {}
    },
    {
      "cell_type": "code",
      "execution_count": 8,
      "metadata": {},
      "outputs": [
        {
          "output_type": "execute_result",
          "data": {
            "text/plain": [
              "[0, 799, 1772, 2032]"
            ]
          },
          "metadata": {},
          "execution_count": 8
        }
      ],
      "source": [
        "class_index = []\n",
        "class_index.append(0)\n",
        "last_class = training_data_class[0]\n",
        "index = 0\n",
        "\n",
        "for element in training_data_class:\n",
        "    if element != last_class:\n",
        "        class_index.append(index)\n",
        "        last_class = element\n",
        "    index+=1\n",
        "class_index.append(index)\n",
        "class_index"
      ]
    },
    {
      "source": [
        "Berechnung Anzahl aller Wörter pro Klasse (für Laplace-Glättung)"
      ],
      "cell_type": "markdown",
      "metadata": {}
    },
    {
      "cell_type": "code",
      "execution_count": 9,
      "metadata": {},
      "outputs": [
        {
          "output_type": "execute_result",
          "data": {
            "text/plain": [
              "[1438212.0, 1349409.0, 481919.0]"
            ]
          },
          "metadata": {},
          "execution_count": 9
        }
      ],
      "source": [
        "class_number_words = []\n",
        "\n",
        "for i in range(1, len(class_index)):\n",
        "    class_number_words.append(np.sum(training_data[class_index[i-1]:class_index[i]-1, :]))\n",
        "\n",
        "class_number_words"
      ]
    },
    {
      "source": [
        "Berechnung von Likelihood mit Laplace-Glättung"
      ],
      "cell_type": "markdown",
      "metadata": {}
    },
    {
      "cell_type": "code",
      "execution_count": 10,
      "metadata": {},
      "outputs": [],
      "source": [
        "likelihood = np.full((3, len(features)), 1.0)\n",
        "\n",
        "for i in range(1, len(class_index)):\n",
        "    for j in range(len(features)):\n",
        "        likelihood[i-1, j] = (np.sum(training_data[class_index[i-1]:class_index[i]-1, j]) + 1) / (class_number_words[i-1] + len(features))"
      ]
    },
    {
      "source": [
        "Wahrscheinlichkeit für Klasse 1 für erster Testdateneintrag"
      ],
      "cell_type": "markdown",
      "metadata": {}
    },
    {
      "cell_type": "code",
      "execution_count": 12,
      "metadata": {
        "tags": []
      },
      "outputs": [],
      "source": [
        "p_class_0 = 1\n",
        "\n",
        "for i in range(len(validation_data[0, :])):\n",
        "    if validation_data[0, i] != 0:\n",
        "        p_class_0 = p_class_0 * (validation_data[0, i] * likelihood[0, i])\n",
        "p_class_0 = p_class_0 * a_priori[0]"
      ]
    },
    {
      "cell_type": "code",
      "execution_count": 13,
      "metadata": {},
      "outputs": [
        {
          "output_type": "stream",
          "name": "stdout",
          "text": [
            "0.0\n0.0\n0.0\n"
          ]
        }
      ],
      "source": [
        "class_index = 0\n",
        "\n",
        "for k in range(3):\n",
        "    p_class = 1\n",
        "    for i in range(len(validation_data[k, :])):\n",
        "        if validation_data[k, i] != 0:\n",
        "            p_class = p_class * (validation_data[k, i] * likelihood[class_index, i]) # log\n",
        "    p_class = p_class * a_priori[class_index]\n",
        "    print(p_class)"
      ]
    },
    {
      "source": [
        "Multonomilal Naive Bayes with sklearn"
      ],
      "cell_type": "markdown",
      "metadata": {}
    },
    {
      "cell_type": "code",
      "execution_count": 14,
      "metadata": {},
      "outputs": [
        {
          "output_type": "execute_result",
          "data": {
            "text/plain": [
              "MultinomialNB()"
            ]
          },
          "metadata": {},
          "execution_count": 14
        }
      ],
      "source": [
        "from sklearn.naive_bayes import MultinomialNB\n",
        "from sklearn import datasets\n",
        "from sklearn.model_selection import train_test_split\n",
        "\n",
        "X_train, X_test, y_train, y_test = train_test_split(data_frequency, data_class, test_size=0.4, random_state=0)\n",
        "\n",
        "clf = MultinomialNB()\n",
        "clf.fit(X_train, y_train)"
      ]
    },
    {
      "cell_type": "code",
      "execution_count": 15,
      "metadata": {},
      "outputs": [],
      "source": [
        "import pandas as pd\n",
        "dataframe= pd.DataFrame(data=clf.predict(X_test), columns=[\"prediciton\"])\n",
        "prediction = dataframe.to_numpy()"
      ]
    },
    {
      "cell_type": "code",
      "execution_count": 16,
      "metadata": {},
      "outputs": [],
      "source": [
        "dataframe.insert(0, \"test\", y_test)"
      ]
    },
    {
      "cell_type": "code",
      "execution_count": 17,
      "metadata": {},
      "outputs": [
        {
          "output_type": "execute_result",
          "data": {
            "text/plain": [
              "               test     prediciton\n",
              "0     comp.graphics  comp.graphics\n",
              "1       alt.atheism    alt.atheism\n",
              "2       alt.atheism    alt.atheism\n",
              "3         sci.space      sci.space\n",
              "4     comp.graphics      sci.space\n",
              "...             ...            ...\n",
              "1350  comp.graphics      sci.space\n",
              "1351    alt.atheism    alt.atheism\n",
              "1352      sci.space      sci.space\n",
              "1353  comp.graphics  comp.graphics\n",
              "1354      sci.space      sci.space\n",
              "\n",
              "[1355 rows x 2 columns]"
            ],
            "text/html": "<div>\n<style scoped>\n    .dataframe tbody tr th:only-of-type {\n        vertical-align: middle;\n    }\n\n    .dataframe tbody tr th {\n        vertical-align: top;\n    }\n\n    .dataframe thead th {\n        text-align: right;\n    }\n</style>\n<table border=\"1\" class=\"dataframe\">\n  <thead>\n    <tr style=\"text-align: right;\">\n      <th></th>\n      <th>test</th>\n      <th>prediciton</th>\n    </tr>\n  </thead>\n  <tbody>\n    <tr>\n      <th>0</th>\n      <td>comp.graphics</td>\n      <td>comp.graphics</td>\n    </tr>\n    <tr>\n      <th>1</th>\n      <td>alt.atheism</td>\n      <td>alt.atheism</td>\n    </tr>\n    <tr>\n      <th>2</th>\n      <td>alt.atheism</td>\n      <td>alt.atheism</td>\n    </tr>\n    <tr>\n      <th>3</th>\n      <td>sci.space</td>\n      <td>sci.space</td>\n    </tr>\n    <tr>\n      <th>4</th>\n      <td>comp.graphics</td>\n      <td>sci.space</td>\n    </tr>\n    <tr>\n      <th>...</th>\n      <td>...</td>\n      <td>...</td>\n    </tr>\n    <tr>\n      <th>1350</th>\n      <td>comp.graphics</td>\n      <td>sci.space</td>\n    </tr>\n    <tr>\n      <th>1351</th>\n      <td>alt.atheism</td>\n      <td>alt.atheism</td>\n    </tr>\n    <tr>\n      <th>1352</th>\n      <td>sci.space</td>\n      <td>sci.space</td>\n    </tr>\n    <tr>\n      <th>1353</th>\n      <td>comp.graphics</td>\n      <td>comp.graphics</td>\n    </tr>\n    <tr>\n      <th>1354</th>\n      <td>sci.space</td>\n      <td>sci.space</td>\n    </tr>\n  </tbody>\n</table>\n<p>1355 rows × 2 columns</p>\n</div>"
          },
          "metadata": {},
          "execution_count": 17
        }
      ],
      "source": [
        "dataframe"
      ]
    },
    {
      "cell_type": "code",
      "execution_count": 18,
      "metadata": {},
      "outputs": [],
      "source": [
        "accuracy = 0\n",
        "\n",
        "for i in range(len(y_test)):\n",
        "    if y_test[i] == prediction[i]:\n",
        "        accuracy += 1\n",
        "\n",
        "accuracy = accuracy/len(y_test)"
      ]
    },
    {
      "cell_type": "code",
      "execution_count": 19,
      "metadata": {},
      "outputs": [
        {
          "output_type": "execute_result",
          "data": {
            "text/plain": [
              "0.8797047970479704"
            ]
          },
          "metadata": {},
          "execution_count": 19
        }
      ],
      "source": [
        "accuracy"
      ]
    },
    {
      "cell_type": "code",
      "execution_count": null,
      "metadata": {},
      "outputs": [],
      "source": []
    }
  ]
}