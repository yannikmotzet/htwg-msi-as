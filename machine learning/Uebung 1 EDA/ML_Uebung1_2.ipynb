{
  "nbformat": 4,
  "nbformat_minor": 0,
  "metadata": {
    "colab": {
      "name": "MN_Uebung1_2.ipynb",
      "provenance": [],
      "collapsed_sections": [],
      "toc_visible": true
    },
    "kernelspec": {
      "name": "python3",
      "display_name": "Python 3"
    }
  },
  "cells": [
    {
      "cell_type": "markdown",
      "metadata": {
        "id": "gws7k_XxfxPc"
      },
      "source": [
        "### group members\n",
        "* Max Dunger\n",
        "* [Yannik Motzet](mailto:yannik.motzet@outlook.com)\n",
        "\n",
        "# Übung 1: Explorative Analyse und Vorverarbeitung\n",
        "## 2. Datenvorverarbeitung mit Pandas: Food Nutrient Database"
      ]
    },
    {
      "cell_type": "code",
      "metadata": {
        "id": "Me1ZZmfqh0C-",
        "outputId": "18229ce4-be50-4d5a-8945-713be358b12b",
        "colab": {
          "base_uri": "https://localhost:8080/"
        }
      },
      "source": [
        "import sys\n",
        "print (\"Python version: \" + sys.version)\n",
        "import numpy as np\n",
        "print(\"numpy version: \" + np.version.version)\n",
        "import pandas as pd\n",
        "print(\"pandas version: \" + pd.__version__)\n",
        "import zipfile\n",
        "import json\n",
        "print(\"json version: \" + json.__version__)"
      ],
      "execution_count": null,
      "outputs": [
        {
          "output_type": "stream",
          "text": [
            "Python version: 3.6.9 (default, Oct  8 2020, 12:12:24) \n",
            "[GCC 8.4.0]\n",
            "numpy version: 1.18.5\n",
            "pandas version: 1.1.3\n",
            "json version: 2.0.9\n"
          ],
          "name": "stdout"
        }
      ]
    },
    {
      "cell_type": "markdown",
      "metadata": {
        "id": "NYQd2-pLsRn4"
      },
      "source": [
        "load database from file\n",
        "\n"
      ]
    },
    {
      "cell_type": "code",
      "metadata": {
        "id": "x-0RvzkEsMUi"
      },
      "source": [
        "# extract zip file\n",
        "with zipfile.ZipFile('foods-2011-10-03.json.zip', 'r') as zip_ref:\n",
        "    zip_ref.extractall('.')\n",
        "\n",
        "# load database\n",
        "database_raw = open('foods-2011-10-03.json')\n",
        "database = json.load(database_raw)"
      ],
      "execution_count": null,
      "outputs": []
    },
    {
      "cell_type": "markdown",
      "metadata": {
        "id": "yWEu9FsU0qeW"
      },
      "source": [
        "get number of entries"
      ]
    },
    {
      "cell_type": "code",
      "metadata": {
        "id": "ltpWEMlWyeL-",
        "outputId": "0b4a1b31-56e5-43ec-b61c-6509cc8e906f",
        "colab": {
          "base_uri": "https://localhost:8080/",
          "height": 33
        }
      },
      "source": [
        "print(len(database))"
      ],
      "execution_count": null,
      "outputs": [
        {
          "output_type": "stream",
          "text": [
            "6636\n"
          ],
          "name": "stdout"
        }
      ]
    },
    {
      "cell_type": "markdown",
      "metadata": {
        "id": "9mPdm8eT0w6V"
      },
      "source": [
        "having a look at structure of database"
      ]
    },
    {
      "cell_type": "code",
      "metadata": {
        "id": "C2uwXw-UutNz",
        "outputId": "8febcc96-7d6c-4566-bb13-fc03e7704254",
        "colab": {
          "base_uri": "https://localhost:8080/",
          "height": 50
        }
      },
      "source": [
        "item_id = 1234\n",
        "# print food\n",
        "# print(database[item_id])\n",
        "# print(database[item_id]['nutrients'])\n",
        "# print(database[item_id]['id'])\n",
        "print(dict.keys(database[item_id]))\n",
        "print((database[item_id]['nutrients'][0]))"
      ],
      "execution_count": null,
      "outputs": [
        {
          "output_type": "stream",
          "text": [
            "dict_keys(['id', 'description', 'tags', 'manufacturer', 'group', 'portions', 'nutrients'])\n",
            "{'value': 0.0, 'units': 'g', 'description': 'Protein', 'group': 'Composition'}\n"
          ],
          "name": "stdout"
        }
      ]
    },
    {
      "cell_type": "markdown",
      "metadata": {
        "id": "ZB9DSvg115OG"
      },
      "source": [
        "transfer database to pandas DataFrame"
      ]
    },
    {
      "cell_type": "code",
      "metadata": {
        "id": "QD73q3_YCSTC",
        "outputId": "5534a3b2-38af-407f-925f-ca630ddb03b1",
        "colab": {
          "base_uri": "https://localhost:8080/",
          "height": 391
        }
      },
      "source": [
        "# create pandas dataframe from list\n",
        "info = pd.DataFrame(database, columns=['description', 'group', 'id', 'manufacturer'])\n",
        "info"
      ],
      "execution_count": null,
      "outputs": [
        {
          "output_type": "execute_result",
          "data": {
            "text/html": [
              "<div>\n",
              "<style scoped>\n",
              "    .dataframe tbody tr th:only-of-type {\n",
              "        vertical-align: middle;\n",
              "    }\n",
              "\n",
              "    .dataframe tbody tr th {\n",
              "        vertical-align: top;\n",
              "    }\n",
              "\n",
              "    .dataframe thead th {\n",
              "        text-align: right;\n",
              "    }\n",
              "</style>\n",
              "<table border=\"1\" class=\"dataframe\">\n",
              "  <thead>\n",
              "    <tr style=\"text-align: right;\">\n",
              "      <th></th>\n",
              "      <th>description</th>\n",
              "      <th>group</th>\n",
              "      <th>id</th>\n",
              "      <th>manufacturer</th>\n",
              "    </tr>\n",
              "  </thead>\n",
              "  <tbody>\n",
              "    <tr>\n",
              "      <th>0</th>\n",
              "      <td>Cheese, caraway</td>\n",
              "      <td>Dairy and Egg Products</td>\n",
              "      <td>1008</td>\n",
              "      <td></td>\n",
              "    </tr>\n",
              "    <tr>\n",
              "      <th>1</th>\n",
              "      <td>Cheese, cheddar</td>\n",
              "      <td>Dairy and Egg Products</td>\n",
              "      <td>1009</td>\n",
              "      <td></td>\n",
              "    </tr>\n",
              "    <tr>\n",
              "      <th>2</th>\n",
              "      <td>Cheese, edam</td>\n",
              "      <td>Dairy and Egg Products</td>\n",
              "      <td>1018</td>\n",
              "      <td></td>\n",
              "    </tr>\n",
              "    <tr>\n",
              "      <th>3</th>\n",
              "      <td>Cheese, feta</td>\n",
              "      <td>Dairy and Egg Products</td>\n",
              "      <td>1019</td>\n",
              "      <td></td>\n",
              "    </tr>\n",
              "    <tr>\n",
              "      <th>4</th>\n",
              "      <td>Cheese, mozzarella, part skim milk</td>\n",
              "      <td>Dairy and Egg Products</td>\n",
              "      <td>1028</td>\n",
              "      <td></td>\n",
              "    </tr>\n",
              "    <tr>\n",
              "      <th>...</th>\n",
              "      <td>...</td>\n",
              "      <td>...</td>\n",
              "      <td>...</td>\n",
              "      <td>...</td>\n",
              "    </tr>\n",
              "    <tr>\n",
              "      <th>6631</th>\n",
              "      <td>Bologna, beef, low fat</td>\n",
              "      <td>Sausages and Luncheon Meats</td>\n",
              "      <td>42161</td>\n",
              "      <td></td>\n",
              "    </tr>\n",
              "    <tr>\n",
              "      <th>6632</th>\n",
              "      <td>Turkey and pork sausage, fresh, bulk, patty or...</td>\n",
              "      <td>Sausages and Luncheon Meats</td>\n",
              "      <td>42173</td>\n",
              "      <td></td>\n",
              "    </tr>\n",
              "    <tr>\n",
              "      <th>6633</th>\n",
              "      <td>Babyfood, juice, pear</td>\n",
              "      <td>Baby Foods</td>\n",
              "      <td>43408</td>\n",
              "      <td>None</td>\n",
              "    </tr>\n",
              "    <tr>\n",
              "      <th>6634</th>\n",
              "      <td>Babyfood, dessert, banana yogurt, strained</td>\n",
              "      <td>Baby Foods</td>\n",
              "      <td>43539</td>\n",
              "      <td>None</td>\n",
              "    </tr>\n",
              "    <tr>\n",
              "      <th>6635</th>\n",
              "      <td>Babyfood, banana no tapioca, strained</td>\n",
              "      <td>Baby Foods</td>\n",
              "      <td>43546</td>\n",
              "      <td>None</td>\n",
              "    </tr>\n",
              "  </tbody>\n",
              "</table>\n",
              "<p>6636 rows × 4 columns</p>\n",
              "</div>"
            ],
            "text/plain": [
              "                                            description  ... manufacturer\n",
              "0                                       Cheese, caraway  ...             \n",
              "1                                       Cheese, cheddar  ...             \n",
              "2                                          Cheese, edam  ...             \n",
              "3                                          Cheese, feta  ...             \n",
              "4                    Cheese, mozzarella, part skim milk  ...             \n",
              "...                                                 ...  ...          ...\n",
              "6631                             Bologna, beef, low fat  ...             \n",
              "6632  Turkey and pork sausage, fresh, bulk, patty or...  ...             \n",
              "6633                              Babyfood, juice, pear  ...         None\n",
              "6634         Babyfood, dessert, banana yogurt, strained  ...         None\n",
              "6635              Babyfood, banana no tapioca, strained  ...         None\n",
              "\n",
              "[6636 rows x 4 columns]"
            ]
          },
          "metadata": {
            "tags": []
          },
          "execution_count": 31
        }
      ]
    },
    {
      "cell_type": "markdown",
      "metadata": {
        "id": "g_8HUinCw3zi"
      },
      "source": [
        "copy all nutrients to own dataframe"
      ]
    },
    {
      "cell_type": "code",
      "metadata": {
        "id": "4EDg61m_175b"
      },
      "source": [
        "nutrients_array = []\n",
        "\n",
        "for food in database:\n",
        "  # copy nutrients to dataframe\n",
        "  nutrients_dataframe = pd.DataFrame(food['nutrients'])\n",
        "  # add id of food to dataframe\n",
        "  id = food['id']\n",
        "  nutrients_dataframe['id'] = id\n",
        "  # append to array\n",
        "  nutrients_array.append(nutrients_dataframe)\n",
        "\n",
        "# nutrients_array"
      ],
      "execution_count": null,
      "outputs": []
    },
    {
      "cell_type": "code",
      "metadata": {
        "id": "y3GutWLYUwK0",
        "outputId": "5d55547f-560f-4048-bf90-3a7dfe5c46c2",
        "colab": {
          "base_uri": "https://localhost:8080/",
          "height": 391
        }
      },
      "source": [
        "# list with dataframe entries to single dataframe\n",
        "nutrients = pd.concat(nutrients_array)\n",
        "nutrients"
      ],
      "execution_count": null,
      "outputs": [
        {
          "output_type": "execute_result",
          "data": {
            "text/html": [
              "<div>\n",
              "<style scoped>\n",
              "    .dataframe tbody tr th:only-of-type {\n",
              "        vertical-align: middle;\n",
              "    }\n",
              "\n",
              "    .dataframe tbody tr th {\n",
              "        vertical-align: top;\n",
              "    }\n",
              "\n",
              "    .dataframe thead th {\n",
              "        text-align: right;\n",
              "    }\n",
              "</style>\n",
              "<table border=\"1\" class=\"dataframe\">\n",
              "  <thead>\n",
              "    <tr style=\"text-align: right;\">\n",
              "      <th></th>\n",
              "      <th>value</th>\n",
              "      <th>units</th>\n",
              "      <th>description</th>\n",
              "      <th>group</th>\n",
              "      <th>id</th>\n",
              "    </tr>\n",
              "  </thead>\n",
              "  <tbody>\n",
              "    <tr>\n",
              "      <th>0</th>\n",
              "      <td>25.180</td>\n",
              "      <td>g</td>\n",
              "      <td>Protein</td>\n",
              "      <td>Composition</td>\n",
              "      <td>1008</td>\n",
              "    </tr>\n",
              "    <tr>\n",
              "      <th>1</th>\n",
              "      <td>29.200</td>\n",
              "      <td>g</td>\n",
              "      <td>Total lipid (fat)</td>\n",
              "      <td>Composition</td>\n",
              "      <td>1008</td>\n",
              "    </tr>\n",
              "    <tr>\n",
              "      <th>2</th>\n",
              "      <td>3.060</td>\n",
              "      <td>g</td>\n",
              "      <td>Carbohydrate, by difference</td>\n",
              "      <td>Composition</td>\n",
              "      <td>1008</td>\n",
              "    </tr>\n",
              "    <tr>\n",
              "      <th>3</th>\n",
              "      <td>3.280</td>\n",
              "      <td>g</td>\n",
              "      <td>Ash</td>\n",
              "      <td>Other</td>\n",
              "      <td>1008</td>\n",
              "    </tr>\n",
              "    <tr>\n",
              "      <th>4</th>\n",
              "      <td>376.000</td>\n",
              "      <td>kcal</td>\n",
              "      <td>Energy</td>\n",
              "      <td>Energy</td>\n",
              "      <td>1008</td>\n",
              "    </tr>\n",
              "    <tr>\n",
              "      <th>...</th>\n",
              "      <td>...</td>\n",
              "      <td>...</td>\n",
              "      <td>...</td>\n",
              "      <td>...</td>\n",
              "      <td>...</td>\n",
              "    </tr>\n",
              "    <tr>\n",
              "      <th>45</th>\n",
              "      <td>0.000</td>\n",
              "      <td>mcg</td>\n",
              "      <td>Vitamin B-12, added</td>\n",
              "      <td>Vitamins</td>\n",
              "      <td>43546</td>\n",
              "    </tr>\n",
              "    <tr>\n",
              "      <th>46</th>\n",
              "      <td>0.000</td>\n",
              "      <td>mg</td>\n",
              "      <td>Cholesterol</td>\n",
              "      <td>Other</td>\n",
              "      <td>43546</td>\n",
              "    </tr>\n",
              "    <tr>\n",
              "      <th>47</th>\n",
              "      <td>0.072</td>\n",
              "      <td>g</td>\n",
              "      <td>Fatty acids, total saturated</td>\n",
              "      <td>Other</td>\n",
              "      <td>43546</td>\n",
              "    </tr>\n",
              "    <tr>\n",
              "      <th>48</th>\n",
              "      <td>0.028</td>\n",
              "      <td>g</td>\n",
              "      <td>Fatty acids, total monounsaturated</td>\n",
              "      <td>Other</td>\n",
              "      <td>43546</td>\n",
              "    </tr>\n",
              "    <tr>\n",
              "      <th>49</th>\n",
              "      <td>0.041</td>\n",
              "      <td>g</td>\n",
              "      <td>Fatty acids, total polyunsaturated</td>\n",
              "      <td>Other</td>\n",
              "      <td>43546</td>\n",
              "    </tr>\n",
              "  </tbody>\n",
              "</table>\n",
              "<p>389355 rows × 5 columns</p>\n",
              "</div>"
            ],
            "text/plain": [
              "      value units                         description        group     id\n",
              "0    25.180     g                             Protein  Composition   1008\n",
              "1    29.200     g                   Total lipid (fat)  Composition   1008\n",
              "2     3.060     g         Carbohydrate, by difference  Composition   1008\n",
              "3     3.280     g                                 Ash        Other   1008\n",
              "4   376.000  kcal                              Energy       Energy   1008\n",
              "..      ...   ...                                 ...          ...    ...\n",
              "45    0.000   mcg                 Vitamin B-12, added     Vitamins  43546\n",
              "46    0.000    mg                         Cholesterol        Other  43546\n",
              "47    0.072     g        Fatty acids, total saturated        Other  43546\n",
              "48    0.028     g  Fatty acids, total monounsaturated        Other  43546\n",
              "49    0.041     g  Fatty acids, total polyunsaturated        Other  43546\n",
              "\n",
              "[389355 rows x 5 columns]"
            ]
          },
          "metadata": {
            "tags": []
          },
          "execution_count": 39
        }
      ]
    },
    {
      "cell_type": "markdown",
      "metadata": {
        "id": "ahe3BrvvC8al"
      },
      "source": [
        "drop dublicates"
      ]
    },
    {
      "cell_type": "code",
      "metadata": {
        "id": "tF6D9HljBxpE",
        "outputId": "53807e1b-3702-4790-e0cb-0b44971f2525",
        "colab": {
          "base_uri": "https://localhost:8080/",
          "height": 391
        }
      },
      "source": [
        "# info.drop_duplicates() # no duplicates\n",
        "nutrients = nutrients.drop_duplicates()\n",
        "nutrients"
      ],
      "execution_count": null,
      "outputs": [
        {
          "output_type": "execute_result",
          "data": {
            "text/html": [
              "<div>\n",
              "<style scoped>\n",
              "    .dataframe tbody tr th:only-of-type {\n",
              "        vertical-align: middle;\n",
              "    }\n",
              "\n",
              "    .dataframe tbody tr th {\n",
              "        vertical-align: top;\n",
              "    }\n",
              "\n",
              "    .dataframe thead th {\n",
              "        text-align: right;\n",
              "    }\n",
              "</style>\n",
              "<table border=\"1\" class=\"dataframe\">\n",
              "  <thead>\n",
              "    <tr style=\"text-align: right;\">\n",
              "      <th></th>\n",
              "      <th>value</th>\n",
              "      <th>units</th>\n",
              "      <th>description</th>\n",
              "      <th>group</th>\n",
              "      <th>id</th>\n",
              "    </tr>\n",
              "  </thead>\n",
              "  <tbody>\n",
              "    <tr>\n",
              "      <th>0</th>\n",
              "      <td>25.180</td>\n",
              "      <td>g</td>\n",
              "      <td>Protein</td>\n",
              "      <td>Composition</td>\n",
              "      <td>1008</td>\n",
              "    </tr>\n",
              "    <tr>\n",
              "      <th>1</th>\n",
              "      <td>29.200</td>\n",
              "      <td>g</td>\n",
              "      <td>Total lipid (fat)</td>\n",
              "      <td>Composition</td>\n",
              "      <td>1008</td>\n",
              "    </tr>\n",
              "    <tr>\n",
              "      <th>2</th>\n",
              "      <td>3.060</td>\n",
              "      <td>g</td>\n",
              "      <td>Carbohydrate, by difference</td>\n",
              "      <td>Composition</td>\n",
              "      <td>1008</td>\n",
              "    </tr>\n",
              "    <tr>\n",
              "      <th>3</th>\n",
              "      <td>3.280</td>\n",
              "      <td>g</td>\n",
              "      <td>Ash</td>\n",
              "      <td>Other</td>\n",
              "      <td>1008</td>\n",
              "    </tr>\n",
              "    <tr>\n",
              "      <th>4</th>\n",
              "      <td>376.000</td>\n",
              "      <td>kcal</td>\n",
              "      <td>Energy</td>\n",
              "      <td>Energy</td>\n",
              "      <td>1008</td>\n",
              "    </tr>\n",
              "    <tr>\n",
              "      <th>...</th>\n",
              "      <td>...</td>\n",
              "      <td>...</td>\n",
              "      <td>...</td>\n",
              "      <td>...</td>\n",
              "      <td>...</td>\n",
              "    </tr>\n",
              "    <tr>\n",
              "      <th>45</th>\n",
              "      <td>0.000</td>\n",
              "      <td>mcg</td>\n",
              "      <td>Vitamin B-12, added</td>\n",
              "      <td>Vitamins</td>\n",
              "      <td>43546</td>\n",
              "    </tr>\n",
              "    <tr>\n",
              "      <th>46</th>\n",
              "      <td>0.000</td>\n",
              "      <td>mg</td>\n",
              "      <td>Cholesterol</td>\n",
              "      <td>Other</td>\n",
              "      <td>43546</td>\n",
              "    </tr>\n",
              "    <tr>\n",
              "      <th>47</th>\n",
              "      <td>0.072</td>\n",
              "      <td>g</td>\n",
              "      <td>Fatty acids, total saturated</td>\n",
              "      <td>Other</td>\n",
              "      <td>43546</td>\n",
              "    </tr>\n",
              "    <tr>\n",
              "      <th>48</th>\n",
              "      <td>0.028</td>\n",
              "      <td>g</td>\n",
              "      <td>Fatty acids, total monounsaturated</td>\n",
              "      <td>Other</td>\n",
              "      <td>43546</td>\n",
              "    </tr>\n",
              "    <tr>\n",
              "      <th>49</th>\n",
              "      <td>0.041</td>\n",
              "      <td>g</td>\n",
              "      <td>Fatty acids, total polyunsaturated</td>\n",
              "      <td>Other</td>\n",
              "      <td>43546</td>\n",
              "    </tr>\n",
              "  </tbody>\n",
              "</table>\n",
              "<p>375176 rows × 5 columns</p>\n",
              "</div>"
            ],
            "text/plain": [
              "      value units                         description        group     id\n",
              "0    25.180     g                             Protein  Composition   1008\n",
              "1    29.200     g                   Total lipid (fat)  Composition   1008\n",
              "2     3.060     g         Carbohydrate, by difference  Composition   1008\n",
              "3     3.280     g                                 Ash        Other   1008\n",
              "4   376.000  kcal                              Energy       Energy   1008\n",
              "..      ...   ...                                 ...          ...    ...\n",
              "45    0.000   mcg                 Vitamin B-12, added     Vitamins  43546\n",
              "46    0.000    mg                         Cholesterol        Other  43546\n",
              "47    0.072     g        Fatty acids, total saturated        Other  43546\n",
              "48    0.028     g  Fatty acids, total monounsaturated        Other  43546\n",
              "49    0.041     g  Fatty acids, total polyunsaturated        Other  43546\n",
              "\n",
              "[375176 rows x 5 columns]"
            ]
          },
          "metadata": {
            "tags": []
          },
          "execution_count": 41
        }
      ]
    },
    {
      "cell_type": "markdown",
      "metadata": {
        "id": "-Qnf5Z2ADKWD"
      },
      "source": [
        "rename cloumns of info and nutrients dataframe"
      ]
    },
    {
      "cell_type": "code",
      "metadata": {
        "id": "0gHugLWhDM4Q",
        "outputId": "93df3a91-0389-454f-f6c1-76904d237a4b",
        "colab": {
          "base_uri": "https://localhost:8080/",
          "height": 391
        }
      },
      "source": [
        "info = info.rename(columns={'group': 'category'})\n",
        "nutrients = nutrients.rename(columns={'description': 'nutrient'})\n",
        "info"
      ],
      "execution_count": null,
      "outputs": [
        {
          "output_type": "execute_result",
          "data": {
            "text/html": [
              "<div>\n",
              "<style scoped>\n",
              "    .dataframe tbody tr th:only-of-type {\n",
              "        vertical-align: middle;\n",
              "    }\n",
              "\n",
              "    .dataframe tbody tr th {\n",
              "        vertical-align: top;\n",
              "    }\n",
              "\n",
              "    .dataframe thead th {\n",
              "        text-align: right;\n",
              "    }\n",
              "</style>\n",
              "<table border=\"1\" class=\"dataframe\">\n",
              "  <thead>\n",
              "    <tr style=\"text-align: right;\">\n",
              "      <th></th>\n",
              "      <th>description</th>\n",
              "      <th>category</th>\n",
              "      <th>id</th>\n",
              "      <th>manufacturer</th>\n",
              "    </tr>\n",
              "  </thead>\n",
              "  <tbody>\n",
              "    <tr>\n",
              "      <th>0</th>\n",
              "      <td>Cheese, caraway</td>\n",
              "      <td>Dairy and Egg Products</td>\n",
              "      <td>1008</td>\n",
              "      <td></td>\n",
              "    </tr>\n",
              "    <tr>\n",
              "      <th>1</th>\n",
              "      <td>Cheese, cheddar</td>\n",
              "      <td>Dairy and Egg Products</td>\n",
              "      <td>1009</td>\n",
              "      <td></td>\n",
              "    </tr>\n",
              "    <tr>\n",
              "      <th>2</th>\n",
              "      <td>Cheese, edam</td>\n",
              "      <td>Dairy and Egg Products</td>\n",
              "      <td>1018</td>\n",
              "      <td></td>\n",
              "    </tr>\n",
              "    <tr>\n",
              "      <th>3</th>\n",
              "      <td>Cheese, feta</td>\n",
              "      <td>Dairy and Egg Products</td>\n",
              "      <td>1019</td>\n",
              "      <td></td>\n",
              "    </tr>\n",
              "    <tr>\n",
              "      <th>4</th>\n",
              "      <td>Cheese, mozzarella, part skim milk</td>\n",
              "      <td>Dairy and Egg Products</td>\n",
              "      <td>1028</td>\n",
              "      <td></td>\n",
              "    </tr>\n",
              "    <tr>\n",
              "      <th>...</th>\n",
              "      <td>...</td>\n",
              "      <td>...</td>\n",
              "      <td>...</td>\n",
              "      <td>...</td>\n",
              "    </tr>\n",
              "    <tr>\n",
              "      <th>6631</th>\n",
              "      <td>Bologna, beef, low fat</td>\n",
              "      <td>Sausages and Luncheon Meats</td>\n",
              "      <td>42161</td>\n",
              "      <td></td>\n",
              "    </tr>\n",
              "    <tr>\n",
              "      <th>6632</th>\n",
              "      <td>Turkey and pork sausage, fresh, bulk, patty or...</td>\n",
              "      <td>Sausages and Luncheon Meats</td>\n",
              "      <td>42173</td>\n",
              "      <td></td>\n",
              "    </tr>\n",
              "    <tr>\n",
              "      <th>6633</th>\n",
              "      <td>Babyfood, juice, pear</td>\n",
              "      <td>Baby Foods</td>\n",
              "      <td>43408</td>\n",
              "      <td>None</td>\n",
              "    </tr>\n",
              "    <tr>\n",
              "      <th>6634</th>\n",
              "      <td>Babyfood, dessert, banana yogurt, strained</td>\n",
              "      <td>Baby Foods</td>\n",
              "      <td>43539</td>\n",
              "      <td>None</td>\n",
              "    </tr>\n",
              "    <tr>\n",
              "      <th>6635</th>\n",
              "      <td>Babyfood, banana no tapioca, strained</td>\n",
              "      <td>Baby Foods</td>\n",
              "      <td>43546</td>\n",
              "      <td>None</td>\n",
              "    </tr>\n",
              "  </tbody>\n",
              "</table>\n",
              "<p>6636 rows × 4 columns</p>\n",
              "</div>"
            ],
            "text/plain": [
              "                                            description  ... manufacturer\n",
              "0                                       Cheese, caraway  ...             \n",
              "1                                       Cheese, cheddar  ...             \n",
              "2                                          Cheese, edam  ...             \n",
              "3                                          Cheese, feta  ...             \n",
              "4                    Cheese, mozzarella, part skim milk  ...             \n",
              "...                                                 ...  ...          ...\n",
              "6631                             Bologna, beef, low fat  ...             \n",
              "6632  Turkey and pork sausage, fresh, bulk, patty or...  ...             \n",
              "6633                              Babyfood, juice, pear  ...         None\n",
              "6634         Babyfood, dessert, banana yogurt, strained  ...         None\n",
              "6635              Babyfood, banana no tapioca, strained  ...         None\n",
              "\n",
              "[6636 rows x 4 columns]"
            ]
          },
          "metadata": {
            "tags": []
          },
          "execution_count": 43
        }
      ]
    },
    {
      "cell_type": "code",
      "metadata": {
        "id": "C5sjuKb35PgQ",
        "outputId": "cc126945-5adb-489e-f91c-974bda2888bb",
        "colab": {
          "base_uri": "https://localhost:8080/",
          "height": 391
        }
      },
      "source": [
        "nutrients"
      ],
      "execution_count": null,
      "outputs": [
        {
          "output_type": "execute_result",
          "data": {
            "text/html": [
              "<div>\n",
              "<style scoped>\n",
              "    .dataframe tbody tr th:only-of-type {\n",
              "        vertical-align: middle;\n",
              "    }\n",
              "\n",
              "    .dataframe tbody tr th {\n",
              "        vertical-align: top;\n",
              "    }\n",
              "\n",
              "    .dataframe thead th {\n",
              "        text-align: right;\n",
              "    }\n",
              "</style>\n",
              "<table border=\"1\" class=\"dataframe\">\n",
              "  <thead>\n",
              "    <tr style=\"text-align: right;\">\n",
              "      <th></th>\n",
              "      <th>value</th>\n",
              "      <th>units</th>\n",
              "      <th>nutrient</th>\n",
              "      <th>group</th>\n",
              "      <th>id</th>\n",
              "    </tr>\n",
              "  </thead>\n",
              "  <tbody>\n",
              "    <tr>\n",
              "      <th>0</th>\n",
              "      <td>25.180</td>\n",
              "      <td>g</td>\n",
              "      <td>Protein</td>\n",
              "      <td>Composition</td>\n",
              "      <td>1008</td>\n",
              "    </tr>\n",
              "    <tr>\n",
              "      <th>1</th>\n",
              "      <td>29.200</td>\n",
              "      <td>g</td>\n",
              "      <td>Total lipid (fat)</td>\n",
              "      <td>Composition</td>\n",
              "      <td>1008</td>\n",
              "    </tr>\n",
              "    <tr>\n",
              "      <th>2</th>\n",
              "      <td>3.060</td>\n",
              "      <td>g</td>\n",
              "      <td>Carbohydrate, by difference</td>\n",
              "      <td>Composition</td>\n",
              "      <td>1008</td>\n",
              "    </tr>\n",
              "    <tr>\n",
              "      <th>3</th>\n",
              "      <td>3.280</td>\n",
              "      <td>g</td>\n",
              "      <td>Ash</td>\n",
              "      <td>Other</td>\n",
              "      <td>1008</td>\n",
              "    </tr>\n",
              "    <tr>\n",
              "      <th>4</th>\n",
              "      <td>376.000</td>\n",
              "      <td>kcal</td>\n",
              "      <td>Energy</td>\n",
              "      <td>Energy</td>\n",
              "      <td>1008</td>\n",
              "    </tr>\n",
              "    <tr>\n",
              "      <th>...</th>\n",
              "      <td>...</td>\n",
              "      <td>...</td>\n",
              "      <td>...</td>\n",
              "      <td>...</td>\n",
              "      <td>...</td>\n",
              "    </tr>\n",
              "    <tr>\n",
              "      <th>45</th>\n",
              "      <td>0.000</td>\n",
              "      <td>mcg</td>\n",
              "      <td>Vitamin B-12, added</td>\n",
              "      <td>Vitamins</td>\n",
              "      <td>43546</td>\n",
              "    </tr>\n",
              "    <tr>\n",
              "      <th>46</th>\n",
              "      <td>0.000</td>\n",
              "      <td>mg</td>\n",
              "      <td>Cholesterol</td>\n",
              "      <td>Other</td>\n",
              "      <td>43546</td>\n",
              "    </tr>\n",
              "    <tr>\n",
              "      <th>47</th>\n",
              "      <td>0.072</td>\n",
              "      <td>g</td>\n",
              "      <td>Fatty acids, total saturated</td>\n",
              "      <td>Other</td>\n",
              "      <td>43546</td>\n",
              "    </tr>\n",
              "    <tr>\n",
              "      <th>48</th>\n",
              "      <td>0.028</td>\n",
              "      <td>g</td>\n",
              "      <td>Fatty acids, total monounsaturated</td>\n",
              "      <td>Other</td>\n",
              "      <td>43546</td>\n",
              "    </tr>\n",
              "    <tr>\n",
              "      <th>49</th>\n",
              "      <td>0.041</td>\n",
              "      <td>g</td>\n",
              "      <td>Fatty acids, total polyunsaturated</td>\n",
              "      <td>Other</td>\n",
              "      <td>43546</td>\n",
              "    </tr>\n",
              "  </tbody>\n",
              "</table>\n",
              "<p>375176 rows × 5 columns</p>\n",
              "</div>"
            ],
            "text/plain": [
              "      value units                            nutrient        group     id\n",
              "0    25.180     g                             Protein  Composition   1008\n",
              "1    29.200     g                   Total lipid (fat)  Composition   1008\n",
              "2     3.060     g         Carbohydrate, by difference  Composition   1008\n",
              "3     3.280     g                                 Ash        Other   1008\n",
              "4   376.000  kcal                              Energy       Energy   1008\n",
              "..      ...   ...                                 ...          ...    ...\n",
              "45    0.000   mcg                 Vitamin B-12, added     Vitamins  43546\n",
              "46    0.000    mg                         Cholesterol        Other  43546\n",
              "47    0.072     g        Fatty acids, total saturated        Other  43546\n",
              "48    0.028     g  Fatty acids, total monounsaturated        Other  43546\n",
              "49    0.041     g  Fatty acids, total polyunsaturated        Other  43546\n",
              "\n",
              "[375176 rows x 5 columns]"
            ]
          },
          "metadata": {
            "tags": []
          },
          "execution_count": 44
        }
      ]
    },
    {
      "cell_type": "markdown",
      "metadata": {
        "id": "qDoaZYHTD8_c"
      },
      "source": [
        "merge info and nutrients"
      ]
    },
    {
      "cell_type": "code",
      "metadata": {
        "id": "3PGwcN-dEBWC",
        "outputId": "6d1ec1a0-4685-4d16-fe88-0c05d2a08efe",
        "colab": {
          "base_uri": "https://localhost:8080/",
          "height": 716
        }
      },
      "source": [
        "food = pd.merge(nutrients, info, on='id',how='outer')\n",
        "food\n",
        "# food.head()"
      ],
      "execution_count": null,
      "outputs": [
        {
          "output_type": "execute_result",
          "data": {
            "text/html": [
              "<div>\n",
              "<style scoped>\n",
              "    .dataframe tbody tr th:only-of-type {\n",
              "        vertical-align: middle;\n",
              "    }\n",
              "\n",
              "    .dataframe tbody tr th {\n",
              "        vertical-align: top;\n",
              "    }\n",
              "\n",
              "    .dataframe thead th {\n",
              "        text-align: right;\n",
              "    }\n",
              "</style>\n",
              "<table border=\"1\" class=\"dataframe\">\n",
              "  <thead>\n",
              "    <tr style=\"text-align: right;\">\n",
              "      <th></th>\n",
              "      <th>value</th>\n",
              "      <th>units</th>\n",
              "      <th>nutrient</th>\n",
              "      <th>group</th>\n",
              "      <th>id</th>\n",
              "      <th>description</th>\n",
              "      <th>category</th>\n",
              "      <th>manufacturer</th>\n",
              "    </tr>\n",
              "  </thead>\n",
              "  <tbody>\n",
              "    <tr>\n",
              "      <th>0</th>\n",
              "      <td>25.180</td>\n",
              "      <td>g</td>\n",
              "      <td>Protein</td>\n",
              "      <td>Composition</td>\n",
              "      <td>1008</td>\n",
              "      <td>Cheese, caraway</td>\n",
              "      <td>Dairy and Egg Products</td>\n",
              "      <td></td>\n",
              "    </tr>\n",
              "    <tr>\n",
              "      <th>1</th>\n",
              "      <td>29.200</td>\n",
              "      <td>g</td>\n",
              "      <td>Total lipid (fat)</td>\n",
              "      <td>Composition</td>\n",
              "      <td>1008</td>\n",
              "      <td>Cheese, caraway</td>\n",
              "      <td>Dairy and Egg Products</td>\n",
              "      <td></td>\n",
              "    </tr>\n",
              "    <tr>\n",
              "      <th>2</th>\n",
              "      <td>3.060</td>\n",
              "      <td>g</td>\n",
              "      <td>Carbohydrate, by difference</td>\n",
              "      <td>Composition</td>\n",
              "      <td>1008</td>\n",
              "      <td>Cheese, caraway</td>\n",
              "      <td>Dairy and Egg Products</td>\n",
              "      <td></td>\n",
              "    </tr>\n",
              "    <tr>\n",
              "      <th>3</th>\n",
              "      <td>3.280</td>\n",
              "      <td>g</td>\n",
              "      <td>Ash</td>\n",
              "      <td>Other</td>\n",
              "      <td>1008</td>\n",
              "      <td>Cheese, caraway</td>\n",
              "      <td>Dairy and Egg Products</td>\n",
              "      <td></td>\n",
              "    </tr>\n",
              "    <tr>\n",
              "      <th>4</th>\n",
              "      <td>376.000</td>\n",
              "      <td>kcal</td>\n",
              "      <td>Energy</td>\n",
              "      <td>Energy</td>\n",
              "      <td>1008</td>\n",
              "      <td>Cheese, caraway</td>\n",
              "      <td>Dairy and Egg Products</td>\n",
              "      <td></td>\n",
              "    </tr>\n",
              "    <tr>\n",
              "      <th>...</th>\n",
              "      <td>...</td>\n",
              "      <td>...</td>\n",
              "      <td>...</td>\n",
              "      <td>...</td>\n",
              "      <td>...</td>\n",
              "      <td>...</td>\n",
              "      <td>...</td>\n",
              "      <td>...</td>\n",
              "    </tr>\n",
              "    <tr>\n",
              "      <th>375171</th>\n",
              "      <td>0.000</td>\n",
              "      <td>mcg</td>\n",
              "      <td>Vitamin B-12, added</td>\n",
              "      <td>Vitamins</td>\n",
              "      <td>43546</td>\n",
              "      <td>Babyfood, banana no tapioca, strained</td>\n",
              "      <td>Baby Foods</td>\n",
              "      <td>None</td>\n",
              "    </tr>\n",
              "    <tr>\n",
              "      <th>375172</th>\n",
              "      <td>0.000</td>\n",
              "      <td>mg</td>\n",
              "      <td>Cholesterol</td>\n",
              "      <td>Other</td>\n",
              "      <td>43546</td>\n",
              "      <td>Babyfood, banana no tapioca, strained</td>\n",
              "      <td>Baby Foods</td>\n",
              "      <td>None</td>\n",
              "    </tr>\n",
              "    <tr>\n",
              "      <th>375173</th>\n",
              "      <td>0.072</td>\n",
              "      <td>g</td>\n",
              "      <td>Fatty acids, total saturated</td>\n",
              "      <td>Other</td>\n",
              "      <td>43546</td>\n",
              "      <td>Babyfood, banana no tapioca, strained</td>\n",
              "      <td>Baby Foods</td>\n",
              "      <td>None</td>\n",
              "    </tr>\n",
              "    <tr>\n",
              "      <th>375174</th>\n",
              "      <td>0.028</td>\n",
              "      <td>g</td>\n",
              "      <td>Fatty acids, total monounsaturated</td>\n",
              "      <td>Other</td>\n",
              "      <td>43546</td>\n",
              "      <td>Babyfood, banana no tapioca, strained</td>\n",
              "      <td>Baby Foods</td>\n",
              "      <td>None</td>\n",
              "    </tr>\n",
              "    <tr>\n",
              "      <th>375175</th>\n",
              "      <td>0.041</td>\n",
              "      <td>g</td>\n",
              "      <td>Fatty acids, total polyunsaturated</td>\n",
              "      <td>Other</td>\n",
              "      <td>43546</td>\n",
              "      <td>Babyfood, banana no tapioca, strained</td>\n",
              "      <td>Baby Foods</td>\n",
              "      <td>None</td>\n",
              "    </tr>\n",
              "  </tbody>\n",
              "</table>\n",
              "<p>375176 rows × 8 columns</p>\n",
              "</div>"
            ],
            "text/plain": [
              "          value units  ...                category manufacturer\n",
              "0        25.180     g  ...  Dairy and Egg Products             \n",
              "1        29.200     g  ...  Dairy and Egg Products             \n",
              "2         3.060     g  ...  Dairy and Egg Products             \n",
              "3         3.280     g  ...  Dairy and Egg Products             \n",
              "4       376.000  kcal  ...  Dairy and Egg Products             \n",
              "...         ...   ...  ...                     ...          ...\n",
              "375171    0.000   mcg  ...              Baby Foods         None\n",
              "375172    0.000    mg  ...              Baby Foods         None\n",
              "375173    0.072     g  ...              Baby Foods         None\n",
              "375174    0.028     g  ...              Baby Foods         None\n",
              "375175    0.041     g  ...              Baby Foods         None\n",
              "\n",
              "[375176 rows x 8 columns]"
            ]
          },
          "metadata": {
            "tags": []
          },
          "execution_count": 45
        }
      ]
    },
    {
      "cell_type": "markdown",
      "metadata": {
        "id": "eSdGwCryHAvr"
      },
      "source": [
        "look for Zinc"
      ]
    },
    {
      "cell_type": "code",
      "metadata": {
        "id": "BGoHVNPRHENI",
        "outputId": "14639068-cecb-4a0c-8757-6ab420d01b9f",
        "colab": {
          "base_uri": "https://localhost:8080/",
          "height": 586
        }
      },
      "source": [
        "zinc = food.loc[food['nutrient'] == 'Zinc, Zn']\n",
        "zinc = zinc.reset_index()\n",
        "zinc"
      ],
      "execution_count": null,
      "outputs": [
        {
          "output_type": "execute_result",
          "data": {
            "text/html": [
              "<div>\n",
              "<style scoped>\n",
              "    .dataframe tbody tr th:only-of-type {\n",
              "        vertical-align: middle;\n",
              "    }\n",
              "\n",
              "    .dataframe tbody tr th {\n",
              "        vertical-align: top;\n",
              "    }\n",
              "\n",
              "    .dataframe thead th {\n",
              "        text-align: right;\n",
              "    }\n",
              "</style>\n",
              "<table border=\"1\" class=\"dataframe\">\n",
              "  <thead>\n",
              "    <tr style=\"text-align: right;\">\n",
              "      <th></th>\n",
              "      <th>index</th>\n",
              "      <th>value</th>\n",
              "      <th>units</th>\n",
              "      <th>nutrient</th>\n",
              "      <th>group</th>\n",
              "      <th>id</th>\n",
              "      <th>description</th>\n",
              "      <th>category</th>\n",
              "      <th>manufacturer</th>\n",
              "    </tr>\n",
              "  </thead>\n",
              "  <tbody>\n",
              "    <tr>\n",
              "      <th>0</th>\n",
              "      <td>14</td>\n",
              "      <td>2.94</td>\n",
              "      <td>mg</td>\n",
              "      <td>Zinc, Zn</td>\n",
              "      <td>Elements</td>\n",
              "      <td>1008.0</td>\n",
              "      <td>Cheese, caraway</td>\n",
              "      <td>Dairy and Egg Products</td>\n",
              "      <td></td>\n",
              "    </tr>\n",
              "    <tr>\n",
              "      <th>1</th>\n",
              "      <td>75</td>\n",
              "      <td>3.11</td>\n",
              "      <td>mg</td>\n",
              "      <td>Zinc, Zn</td>\n",
              "      <td>Elements</td>\n",
              "      <td>1009.0</td>\n",
              "      <td>Cheese, cheddar</td>\n",
              "      <td>Dairy and Egg Products</td>\n",
              "      <td></td>\n",
              "    </tr>\n",
              "    <tr>\n",
              "      <th>2</th>\n",
              "      <td>151</td>\n",
              "      <td>3.75</td>\n",
              "      <td>mg</td>\n",
              "      <td>Zinc, Zn</td>\n",
              "      <td>Elements</td>\n",
              "      <td>1018.0</td>\n",
              "      <td>Cheese, edam</td>\n",
              "      <td>Dairy and Egg Products</td>\n",
              "      <td></td>\n",
              "    </tr>\n",
              "    <tr>\n",
              "      <th>3</th>\n",
              "      <td>222</td>\n",
              "      <td>2.88</td>\n",
              "      <td>mg</td>\n",
              "      <td>Zinc, Zn</td>\n",
              "      <td>Elements</td>\n",
              "      <td>1019.0</td>\n",
              "      <td>Cheese, feta</td>\n",
              "      <td>Dairy and Egg Products</td>\n",
              "      <td></td>\n",
              "    </tr>\n",
              "    <tr>\n",
              "      <th>4</th>\n",
              "      <td>293</td>\n",
              "      <td>2.76</td>\n",
              "      <td>mg</td>\n",
              "      <td>Zinc, Zn</td>\n",
              "      <td>Elements</td>\n",
              "      <td>1028.0</td>\n",
              "      <td>Cheese, mozzarella, part skim milk</td>\n",
              "      <td>Dairy and Egg Products</td>\n",
              "      <td></td>\n",
              "    </tr>\n",
              "    <tr>\n",
              "      <th>...</th>\n",
              "      <td>...</td>\n",
              "      <td>...</td>\n",
              "      <td>...</td>\n",
              "      <td>...</td>\n",
              "      <td>...</td>\n",
              "      <td>...</td>\n",
              "      <td>...</td>\n",
              "      <td>...</td>\n",
              "      <td>...</td>\n",
              "    </tr>\n",
              "    <tr>\n",
              "      <th>6132</th>\n",
              "      <td>374940</td>\n",
              "      <td>1.83</td>\n",
              "      <td>mg</td>\n",
              "      <td>Zinc, Zn</td>\n",
              "      <td>Elements</td>\n",
              "      <td>42161.0</td>\n",
              "      <td>Bologna, beef, low fat</td>\n",
              "      <td>Sausages and Luncheon Meats</td>\n",
              "      <td></td>\n",
              "    </tr>\n",
              "    <tr>\n",
              "      <th>6133</th>\n",
              "      <td>374991</td>\n",
              "      <td>3.17</td>\n",
              "      <td>mg</td>\n",
              "      <td>Zinc, Zn</td>\n",
              "      <td>Elements</td>\n",
              "      <td>42173.0</td>\n",
              "      <td>Turkey and pork sausage, fresh, bulk, patty or...</td>\n",
              "      <td>Sausages and Luncheon Meats</td>\n",
              "      <td></td>\n",
              "    </tr>\n",
              "    <tr>\n",
              "      <th>6134</th>\n",
              "      <td>375043</td>\n",
              "      <td>0.08</td>\n",
              "      <td>mg</td>\n",
              "      <td>Zinc, Zn</td>\n",
              "      <td>Elements</td>\n",
              "      <td>43408.0</td>\n",
              "      <td>Babyfood, juice, pear</td>\n",
              "      <td>Baby Foods</td>\n",
              "      <td>None</td>\n",
              "    </tr>\n",
              "    <tr>\n",
              "      <th>6135</th>\n",
              "      <td>375093</td>\n",
              "      <td>0.26</td>\n",
              "      <td>mg</td>\n",
              "      <td>Zinc, Zn</td>\n",
              "      <td>Elements</td>\n",
              "      <td>43539.0</td>\n",
              "      <td>Babyfood, dessert, banana yogurt, strained</td>\n",
              "      <td>Baby Foods</td>\n",
              "      <td>None</td>\n",
              "    </tr>\n",
              "    <tr>\n",
              "      <th>6136</th>\n",
              "      <td>375144</td>\n",
              "      <td>0.05</td>\n",
              "      <td>mg</td>\n",
              "      <td>Zinc, Zn</td>\n",
              "      <td>Elements</td>\n",
              "      <td>43546.0</td>\n",
              "      <td>Babyfood, banana no tapioca, strained</td>\n",
              "      <td>Baby Foods</td>\n",
              "      <td>None</td>\n",
              "    </tr>\n",
              "  </tbody>\n",
              "</table>\n",
              "<p>6137 rows × 9 columns</p>\n",
              "</div>"
            ],
            "text/plain": [
              "       index  value  ...                     category manufacturer\n",
              "0         14   2.94  ...       Dairy and Egg Products             \n",
              "1         75   3.11  ...       Dairy and Egg Products             \n",
              "2        151   3.75  ...       Dairy and Egg Products             \n",
              "3        222   2.88  ...       Dairy and Egg Products             \n",
              "4        293   2.76  ...       Dairy and Egg Products             \n",
              "...      ...    ...  ...                          ...          ...\n",
              "6132  374940   1.83  ...  Sausages and Luncheon Meats             \n",
              "6133  374991   3.17  ...  Sausages and Luncheon Meats             \n",
              "6134  375043   0.08  ...                   Baby Foods         None\n",
              "6135  375093   0.26  ...                   Baby Foods         None\n",
              "6136  375144   0.05  ...                   Baby Foods         None\n",
              "\n",
              "[6137 rows x 9 columns]"
            ]
          },
          "metadata": {
            "tags": []
          },
          "execution_count": 55
        }
      ]
    },
    {
      "cell_type": "markdown",
      "metadata": {
        "id": "atGVRmFboaLW"
      },
      "source": [
        "Histogramm Zinkgehalt in mg"
      ]
    },
    {
      "cell_type": "code",
      "metadata": {
        "id": "eeuIkzYrV2tg",
        "outputId": "d6c137ec-5fe3-4da7-dd72-5fe788e57058",
        "colab": {
          "base_uri": "https://localhost:8080/",
          "height": 265
        }
      },
      "source": [
        "number_of_different_values = zinc['value'].nunique()\n",
        "hist_zinc = zinc['value'].hist(bins = number_of_different_values, legend = True)"
      ],
      "execution_count": null,
      "outputs": [
        {
          "output_type": "display_data",
          "data": {
            "image/png": "[encoded data removed]",
            "text/plain": [
              "<Figure size 432x288 with 1 Axes>"
            ]
          },
          "metadata": {
            "tags": [],
            "needs_background": "light"
          }
        }
      ]
    },
    {
      "cell_type": "markdown",
      "metadata": {
        "id": "-RQqJ0VW31gx"
      },
      "source": [
        "Liste deskriptiver Statistiken"
      ]
    },
    {
      "cell_type": "code",
      "metadata": {
        "id": "6WY_2IG37HxI",
        "outputId": "231a2959-5c38-42b4-fe4f-28d29488b3af",
        "colab": {
          "base_uri": "https://localhost:8080/",
          "height": 277
        }
      },
      "source": [
        "zinc.describe()\n",
        "# zinc['value'].describe()"
      ],
      "execution_count": null,
      "outputs": [
        {
          "output_type": "execute_result",
          "data": {
            "text/html": [
              "<div>\n",
              "<style scoped>\n",
              "    .dataframe tbody tr th:only-of-type {\n",
              "        vertical-align: middle;\n",
              "    }\n",
              "\n",
              "    .dataframe tbody tr th {\n",
              "        vertical-align: top;\n",
              "    }\n",
              "\n",
              "    .dataframe thead th {\n",
              "        text-align: right;\n",
              "    }\n",
              "</style>\n",
              "<table border=\"1\" class=\"dataframe\">\n",
              "  <thead>\n",
              "    <tr style=\"text-align: right;\">\n",
              "      <th></th>\n",
              "      <th>value</th>\n",
              "      <th>id</th>\n",
              "    </tr>\n",
              "  </thead>\n",
              "  <tbody>\n",
              "    <tr>\n",
              "      <th>count</th>\n",
              "      <td>6137.000000</td>\n",
              "      <td>6137.000000</td>\n",
              "    </tr>\n",
              "    <tr>\n",
              "      <th>mean</th>\n",
              "      <td>2.228589</td>\n",
              "      <td>15555.259573</td>\n",
              "    </tr>\n",
              "    <tr>\n",
              "      <th>std</th>\n",
              "      <td>3.975321</td>\n",
              "      <td>8645.544374</td>\n",
              "    </tr>\n",
              "    <tr>\n",
              "      <th>min</th>\n",
              "      <td>0.000000</td>\n",
              "      <td>1008.000000</td>\n",
              "    </tr>\n",
              "    <tr>\n",
              "      <th>25%</th>\n",
              "      <td>0.340000</td>\n",
              "      <td>10185.000000</td>\n",
              "    </tr>\n",
              "    <tr>\n",
              "      <th>50%</th>\n",
              "      <td>0.980000</td>\n",
              "      <td>14269.000000</td>\n",
              "    </tr>\n",
              "    <tr>\n",
              "      <th>75%</th>\n",
              "      <td>2.980000</td>\n",
              "      <td>19108.000000</td>\n",
              "    </tr>\n",
              "    <tr>\n",
              "      <th>max</th>\n",
              "      <td>90.950000</td>\n",
              "      <td>93600.000000</td>\n",
              "    </tr>\n",
              "  </tbody>\n",
              "</table>\n",
              "</div>"
            ],
            "text/plain": [
              "             value            id\n",
              "count  6137.000000   6137.000000\n",
              "mean      2.228589  15555.259573\n",
              "std       3.975321   8645.544374\n",
              "min       0.000000   1008.000000\n",
              "25%       0.340000  10185.000000\n",
              "50%       0.980000  14269.000000\n",
              "75%       2.980000  19108.000000\n",
              "max      90.950000  93600.000000"
            ]
          },
          "metadata": {
            "tags": []
          },
          "execution_count": 129
        }
      ]
    },
    {
      "cell_type": "markdown",
      "metadata": {
        "id": "EDry3ujTX6nh"
      },
      "source": [
        "Find Edamer"
      ]
    },
    {
      "cell_type": "code",
      "metadata": {
        "id": "wplQCAaocHn4",
        "outputId": "30e6be08-20f5-4580-da24-8a768e575adf",
        "colab": {
          "base_uri": "https://localhost:8080/",
          "height": 76
        }
      },
      "source": [
        "edam = zinc.loc[zinc['description'] == \"Cheese, edam\"]\n",
        "edam"
      ],
      "execution_count": null,
      "outputs": [
        {
          "output_type": "execute_result",
          "data": {
            "text/html": [
              "<div>\n",
              "<style scoped>\n",
              "    .dataframe tbody tr th:only-of-type {\n",
              "        vertical-align: middle;\n",
              "    }\n",
              "\n",
              "    .dataframe tbody tr th {\n",
              "        vertical-align: top;\n",
              "    }\n",
              "\n",
              "    .dataframe thead th {\n",
              "        text-align: right;\n",
              "    }\n",
              "</style>\n",
              "<table border=\"1\" class=\"dataframe\">\n",
              "  <thead>\n",
              "    <tr style=\"text-align: right;\">\n",
              "      <th></th>\n",
              "      <th>index</th>\n",
              "      <th>value</th>\n",
              "      <th>units</th>\n",
              "      <th>nutrient</th>\n",
              "      <th>group</th>\n",
              "      <th>id</th>\n",
              "      <th>description</th>\n",
              "      <th>category</th>\n",
              "      <th>manufacturer</th>\n",
              "    </tr>\n",
              "  </thead>\n",
              "  <tbody>\n",
              "    <tr>\n",
              "      <th>2</th>\n",
              "      <td>151</td>\n",
              "      <td>3.75</td>\n",
              "      <td>mg</td>\n",
              "      <td>Zinc, Zn</td>\n",
              "      <td>Elements</td>\n",
              "      <td>1018.0</td>\n",
              "      <td>Cheese, edam</td>\n",
              "      <td>Dairy and Egg Products</td>\n",
              "      <td></td>\n",
              "    </tr>\n",
              "  </tbody>\n",
              "</table>\n",
              "</div>"
            ],
            "text/plain": [
              "   index  value units  ...   description                category  manufacturer\n",
              "2    151   3.75    mg  ...  Cheese, edam  Dairy and Egg Products              \n",
              "\n",
              "[1 rows x 9 columns]"
            ]
          },
          "metadata": {
            "tags": []
          },
          "execution_count": 74
        }
      ]
    },
    {
      "cell_type": "markdown",
      "metadata": {
        "id": "cI54aRVuchJx"
      },
      "source": [
        "**Frage:** Hat Edamer einen überdurchschnittlichen Zinkgehalt? \\\n",
        "**Antwort:** Ja, da Zinkgehalt von Edamer mit 3.75 mg größer als arithmetisches Mittel (2.22 mg)."
      ]
    },
    {
      "cell_type": "markdown",
      "metadata": {
        "id": "8GaNDZvns1yb"
      },
      "source": [
        "**Frage:** Haben mehr als 75% aller Nahrungsmittel einen kleineren Zinkgehalt als Edam? \\\n",
        "**Antwort:** Ja, da 75% Perzentil kleiner als Wert von Edamer ist.\n"
      ]
    },
    {
      "cell_type": "code",
      "metadata": {
        "id": "N5tLcFO8dasc",
        "outputId": "02da3a3e-7af3-4e54-97f0-8dd9a99ebfeb",
        "colab": {
          "base_uri": "https://localhost:8080/",
          "height": 108
        }
      },
      "source": [
        "zinc_max = zinc.loc[zinc['value'] == zinc[\"value\"].max()]\n",
        "zinc_max"
      ],
      "execution_count": null,
      "outputs": [
        {
          "output_type": "execute_result",
          "data": {
            "text/html": [
              "<div>\n",
              "<style scoped>\n",
              "    .dataframe tbody tr th:only-of-type {\n",
              "        vertical-align: middle;\n",
              "    }\n",
              "\n",
              "    .dataframe tbody tr th {\n",
              "        vertical-align: top;\n",
              "    }\n",
              "\n",
              "    .dataframe thead th {\n",
              "        text-align: right;\n",
              "    }\n",
              "</style>\n",
              "<table border=\"1\" class=\"dataframe\">\n",
              "  <thead>\n",
              "    <tr style=\"text-align: right;\">\n",
              "      <th></th>\n",
              "      <th>index</th>\n",
              "      <th>value</th>\n",
              "      <th>units</th>\n",
              "      <th>nutrient</th>\n",
              "      <th>group</th>\n",
              "      <th>id</th>\n",
              "      <th>description</th>\n",
              "      <th>category</th>\n",
              "      <th>manufacturer</th>\n",
              "    </tr>\n",
              "  </thead>\n",
              "  <tbody>\n",
              "    <tr>\n",
              "      <th>5470</th>\n",
              "      <td>333726</td>\n",
              "      <td>90.95</td>\n",
              "      <td>mg</td>\n",
              "      <td>Zinc, Zn</td>\n",
              "      <td>Elements</td>\n",
              "      <td>15170.0</td>\n",
              "      <td>Mollusks, oyster, eastern, canned</td>\n",
              "      <td>Finfish and Shellfish Products</td>\n",
              "      <td></td>\n",
              "    </tr>\n",
              "  </tbody>\n",
              "</table>\n",
              "</div>"
            ],
            "text/plain": [
              "       index  value  ...                        category manufacturer\n",
              "5470  333726  90.95  ...  Finfish and Shellfish Products             \n",
              "\n",
              "[1 rows x 9 columns]"
            ]
          },
          "metadata": {
            "tags": []
          },
          "execution_count": 77
        }
      ]
    },
    {
      "cell_type": "markdown",
      "metadata": {
        "id": "X9-m7A8L9WsX"
      },
      "source": [
        "**Frage:** Welches Nahrungsmittel hat den\n",
        "maximalen Zinkgehalt? \\\n",
        "**Antwort:** Dosenaustern"
      ]
    }
  ]
}