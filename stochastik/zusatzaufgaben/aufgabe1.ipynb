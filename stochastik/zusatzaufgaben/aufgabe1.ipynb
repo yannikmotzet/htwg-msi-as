{
  "nbformat": 4,
  "nbformat_minor": 0,
  "metadata": {
    "colab": {
      "name": "Umfrage.ipynb",
      "provenance": [],
      "collapsed_sections": [],
      "toc_visible": true
    },
    "kernelspec": {
      "name": "python3",
      "display_name": "Python 3"
    },
    "language_info": {
      "name": "python"
    }
  },
  "cells": [
    {
      "cell_type": "markdown",
      "metadata": {
        "id": "QuJ2wML1gog3"
      },
      "source": [
        "# Untersuchung Umfrage mprove ws 18/19 "
      ]
    },
    {
      "cell_type": "markdown",
      "metadata": {
        "id": "OIVWvIMzEWRM"
      },
      "source": [
        "msprove Projekt - emissionsfreier Campus\n",
        "\n",
        "Inhalt der Umfrage: zum Pendeln genutzte Verkehrsmittel \n",
        "\n",
        "791 Teilnehmende Personen\n",
        "\n",
        "the excel sheet of the survey can be found [here](https://www.dropbox.com/s/dj00w410nx7qm4z/umfrage.xlsx?dl=0)"
      ]
    },
    {
      "cell_type": "code",
      "metadata": {
        "id": "0XkZ-4-x5zpe"
      },
      "source": [
        "import pandas as pd\n",
        "import matplotlib.pyplot as plt\n",
        "import numpy as np\n",
        "from scipy import stats\n",
        "import re\n",
        "import seaborn as sbn"
      ],
      "execution_count": null,
      "outputs": []
    },
    {
      "cell_type": "markdown",
      "metadata": {
        "id": "X8Yw8_9biQAv"
      },
      "source": [
        "load data into DataFrame"
      ]
    },
    {
      "cell_type": "code",
      "metadata": {
        "id": "K8aRRJwLha_V",
        "colab": {
          "base_uri": "https://localhost:8080/",
          "height": 632
        },
        "outputId": "2ad92cb1-31a2-4426-adca-e8774f921b3e"
      },
      "source": [
        "data = pd.read_excel (r'umfrage.xlsx')\n",
        "df = pd.DataFrame(data)\n",
        "df.head()"
      ],
      "execution_count": null,
      "outputs": [
        {
          "output_type": "execute_result",
          "data": {
            "text/html": [
              "<div>\n",
              "<style scoped>\n",
              "    .dataframe tbody tr th:only-of-type {\n",
              "        vertical-align: middle;\n",
              "    }\n",
              "\n",
              "    .dataframe tbody tr th {\n",
              "        vertical-align: top;\n",
              "    }\n",
              "\n",
              "    .dataframe thead th {\n",
              "        text-align: right;\n",
              "    }\n",
              "</style>\n",
              "<table border=\"1\" class=\"dataframe\">\n",
              "  <thead>\n",
              "    <tr style=\"text-align: right;\">\n",
              "      <th></th>\n",
              "      <th>Timestamp</th>\n",
              "      <th>Rolle</th>\n",
              "      <th>Abschluss</th>\n",
              "      <th>Semester</th>\n",
              "      <th>Postleitzahl</th>\n",
              "      <th>Verkehrsmittel</th>\n",
              "      <th>Weglänge</th>\n",
              "      <th>Häufigkeit</th>\n",
              "      <th>Entfernung</th>\n",
              "      <th>Falls Sie mit dem motorisierten Individualverkehr zur HTWG gelangen: Warum nutzen Sie nicht den Ã¶ffentlichen Personennahverkehr? [Zu teuer]</th>\n",
              "      <th>Falls Sie mit dem motorisierten Individualverkehr zur HTWG gelangen: Warum nutzen Sie nicht den Ã¶ffentlichen Personennahverkehr? [ÃœberfÃ¼llte Verkehrsmittel]</th>\n",
              "      <th>Falls Sie mit dem motorisierten Individualverkehr zur HTWG gelangen: Warum nutzen Sie nicht den Ã¶ffentlichen Personennahverkehr? [Dauert zu lange]</th>\n",
              "      <th>Falls Sie mit dem motorisierten Individualverkehr zur HTWG gelangen: Warum nutzen Sie nicht den Ã¶ffentlichen Personennahverkehr? [Schlechte Anbindung an die HTWG]</th>\n",
              "      <th>Falls Sie mit dem motorisierten Individualverkehr zur HTWG gelangen: Warum nutzen Sie nicht den Ã¶ffentlichen Personennahverkehr? [Grund ist nicht aufgefÃ¼hrt]</th>\n",
              "      <th>Wenn bei obiger Frage ihr Grund nicht aufgefÃ¼hrt ist ergÃ¤nzen Sie bitte hier.</th>\n",
              "      <th>Fahrzeug</th>\n",
              "      <th>Wenn obige Frage mit JA beantwortet wurde: Welchen Kraftstoffverbrauch weist das Fahrzeug im Durchschnitt auf 100 km auf?</th>\n",
              "      <th>Ebike</th>\n",
              "      <th>Zeitfahrkarte</th>\n",
              "    </tr>\n",
              "  </thead>\n",
              "  <tbody>\n",
              "    <tr>\n",
              "      <th>0</th>\n",
              "      <td>2018/12/07 1:08:41 PM MEZ</td>\n",
              "      <td>Lehrpersonal</td>\n",
              "      <td>kein Abschluss angestrebt.</td>\n",
              "      <td>NaN</td>\n",
              "      <td>78315</td>\n",
              "      <td>Fahrer motorisierter Individualverkehr (Auto/M...</td>\n",
              "      <td>16 km</td>\n",
              "      <td>3</td>\n",
              "      <td>1</td>\n",
              "      <td>Trifft voll und ganz zu</td>\n",
              "      <td>Trifft eher nicht zu</td>\n",
              "      <td>Trifft eher nicht zu</td>\n",
              "      <td>Trifft eher nicht zu</td>\n",
              "      <td>Trifft eher nicht zu</td>\n",
              "      <td>NaN</td>\n",
              "      <td>Ja</td>\n",
              "      <td>6,6</td>\n",
              "      <td>Nein</td>\n",
              "      <td>Nein</td>\n",
              "    </tr>\n",
              "    <tr>\n",
              "      <th>1</th>\n",
              "      <td>2018/12/07 1:26:54 PM MEZ</td>\n",
              "      <td>Sonstiges Personal</td>\n",
              "      <td>Dr.</td>\n",
              "      <td>NaN</td>\n",
              "      <td>78467 (Wollmatingen-Fürstenberg)</td>\n",
              "      <td>Fahrrad</td>\n",
              "      <td>4</td>\n",
              "      <td>2</td>\n",
              "      <td>0,5</td>\n",
              "      <td>NaN</td>\n",
              "      <td>NaN</td>\n",
              "      <td>NaN</td>\n",
              "      <td>NaN</td>\n",
              "      <td>NaN</td>\n",
              "      <td>NaN</td>\n",
              "      <td>Nein</td>\n",
              "      <td>NaN</td>\n",
              "      <td>Nein</td>\n",
              "      <td>Nein</td>\n",
              "    </tr>\n",
              "    <tr>\n",
              "      <th>2</th>\n",
              "      <td>2018/12/07 1:27:33 PM MEZ</td>\n",
              "      <td>Sonstiges Personal</td>\n",
              "      <td>Kein Abschluss da Personal</td>\n",
              "      <td>NaN</td>\n",
              "      <td>78462 (Paradies-Altstadt)</td>\n",
              "      <td>Fahrrad</td>\n",
              "      <td>2km</td>\n",
              "      <td>4</td>\n",
              "      <td>0,1</td>\n",
              "      <td>NaN</td>\n",
              "      <td>NaN</td>\n",
              "      <td>NaN</td>\n",
              "      <td>NaN</td>\n",
              "      <td>NaN</td>\n",
              "      <td>NaN</td>\n",
              "      <td>Ja</td>\n",
              "      <td>7L</td>\n",
              "      <td>Nein</td>\n",
              "      <td>Nein</td>\n",
              "    </tr>\n",
              "    <tr>\n",
              "      <th>3</th>\n",
              "      <td>2018/12/07 1:30:50 PM MEZ</td>\n",
              "      <td>Sonstiges Personal</td>\n",
              "      <td>Kein Abschluss da Personal</td>\n",
              "      <td>NaN</td>\n",
              "      <td>78476 Allensbach</td>\n",
              "      <td>Fahrer motorisierter Individualverkehr (Auto/M...</td>\n",
              "      <td>15</td>\n",
              "      <td>5</td>\n",
              "      <td>0,1</td>\n",
              "      <td>Trifft eher nicht zu</td>\n",
              "      <td>Trifft eher zu</td>\n",
              "      <td>Trifft voll und ganz zu</td>\n",
              "      <td>Trifft eher zu</td>\n",
              "      <td>NaN</td>\n",
              "      <td>NaN</td>\n",
              "      <td>Ja</td>\n",
              "      <td>7</td>\n",
              "      <td>Nein</td>\n",
              "      <td>Nein</td>\n",
              "    </tr>\n",
              "    <tr>\n",
              "      <th>4</th>\n",
              "      <td>2018/12/07 1:31:32 PM MEZ</td>\n",
              "      <td>Sonstiges Personal</td>\n",
              "      <td>Kein Abschluss da Personal</td>\n",
              "      <td>NaN</td>\n",
              "      <td>78464 (Egg-Staad)</td>\n",
              "      <td>Fahrrad</td>\n",
              "      <td>2 km</td>\n",
              "      <td>5</td>\n",
              "      <td>0,5</td>\n",
              "      <td>NaN</td>\n",
              "      <td>NaN</td>\n",
              "      <td>NaN</td>\n",
              "      <td>NaN</td>\n",
              "      <td>NaN</td>\n",
              "      <td>NaN</td>\n",
              "      <td>Ja</td>\n",
              "      <td>7,5/100km</td>\n",
              "      <td>Nein</td>\n",
              "      <td>Nein</td>\n",
              "    </tr>\n",
              "  </tbody>\n",
              "</table>\n",
              "</div>"
            ],
            "text/plain": [
              "                   Timestamp               Rolle  ... Ebike Zeitfahrkarte\n",
              "0  2018/12/07 1:08:41 PM MEZ        Lehrpersonal  ...  Nein          Nein\n",
              "1  2018/12/07 1:26:54 PM MEZ  Sonstiges Personal  ...  Nein          Nein\n",
              "2  2018/12/07 1:27:33 PM MEZ  Sonstiges Personal  ...  Nein          Nein\n",
              "3  2018/12/07 1:30:50 PM MEZ  Sonstiges Personal  ...  Nein          Nein\n",
              "4  2018/12/07 1:31:32 PM MEZ  Sonstiges Personal  ...  Nein          Nein\n",
              "\n",
              "[5 rows x 19 columns]"
            ]
          },
          "metadata": {
            "tags": []
          },
          "execution_count": 39
        }
      ]
    },
    {
      "cell_type": "code",
      "metadata": {
        "colab": {
          "base_uri": "https://localhost:8080/"
        },
        "id": "ZddRisSDCeR-",
        "outputId": "9dd57f13-59a1-48f1-9df9-cd4e68021ece"
      },
      "source": [
        "df.shape"
      ],
      "execution_count": null,
      "outputs": [
        {
          "output_type": "execute_result",
          "data": {
            "text/plain": [
              "(791, 19)"
            ]
          },
          "metadata": {
            "tags": []
          },
          "execution_count": 40
        }
      ]
    },
    {
      "cell_type": "markdown",
      "metadata": {
        "id": "5L8eYHKhlu5V"
      },
      "source": [
        "##Übersicht HTWGler"
      ]
    },
    {
      "cell_type": "code",
      "metadata": {
        "colab": {
          "base_uri": "https://localhost:8080/"
        },
        "id": "Ddk5i8pGdm55",
        "outputId": "4290018e-3afe-4d30-a823-879b62c04cff"
      },
      "source": [
        "roles = df.Rolle.value_counts()\n",
        "roles"
      ],
      "execution_count": null,
      "outputs": [
        {
          "output_type": "execute_result",
          "data": {
            "text/plain": [
              "Student                539\n",
              "Lehrpersonal           123\n",
              "Verwaltungspersonal     70\n",
              "Sonstiges Personal      59\n",
              "Name: Rolle, dtype: int64"
            ]
          },
          "metadata": {
            "tags": []
          },
          "execution_count": 41
        }
      ]
    },
    {
      "cell_type": "code",
      "metadata": {
        "id": "Q0USRzmwr_Dw"
      },
      "source": [
        "labels = roles.index.tolist()\n",
        "roles = roles.tolist()"
      ],
      "execution_count": null,
      "outputs": []
    },
    {
      "cell_type": "code",
      "metadata": {
        "colab": {
          "base_uri": "https://localhost:8080/"
        },
        "id": "aVJ7LsiWgN82",
        "outputId": "d725e6a1-26a4-4c53-d5ea-94f41c371570"
      },
      "source": [
        "df.Abschluss.value_counts()"
      ],
      "execution_count": null,
      "outputs": [
        {
          "output_type": "execute_result",
          "data": {
            "text/plain": [
              "Bachelor                                                       385\n",
              "Kein Abschluss da Personal                                     228\n",
              "Master                                                         160\n",
              "Doktor                                                           2\n",
              "Promotion                                                        2\n",
              "Diplom                                                           2\n",
              "Bin bereits fertig mit meinem Studium                            1\n",
              "Zweitstudienabschluss                                            1\n",
              "Dr.-Ing.                                                         1\n",
              "bereits MBA_abschluss                                            1\n",
              "Professur                                                        1\n",
              "unlogisches Pflichtfeld; bin wie oben angegeben Mitarbeiter      1\n",
              "habe schon zwei AbschlÃ¼sse                                      1\n",
              "kein weiterer Abschluss                                          1\n",
              "kein Abschluss angestrebt.                                       1\n",
              "Dr.                                                              1\n",
              "ddd                                                              1\n",
              "ich bin Dozent, kein Student                                     1\n",
              "Name: Abschluss, dtype: int64"
            ]
          },
          "metadata": {
            "tags": []
          },
          "execution_count": 43
        }
      ]
    },
    {
      "cell_type": "markdown",
      "metadata": {
        "id": "dmCCOEw3gj26"
      },
      "source": [
        "Hinweis: Manche haben die Frage falsch verstanden: Es geht um den angestrebten Abschluss, nicht um den, welcher aktuell vorhanden ist. "
      ]
    },
    {
      "cell_type": "code",
      "metadata": {
        "colab": {
          "base_uri": "https://localhost:8080/"
        },
        "id": "wpqnJVdjhRve",
        "outputId": "adb1eb37-cc22-481f-c3dc-a43bdb2260a4"
      },
      "source": [
        "countBachelor = 0\n",
        "countMaster = 0\n",
        "\n",
        "for i in df.index:\n",
        "    if df.Rolle[i] == \"Student\":\n",
        "      if df.Abschluss[i] == \"Master\":\n",
        "        countMaster += 1\n",
        "      elif df.Abschluss[i] == \"Bachelor\":\n",
        "        countBachelor += 1\n",
        "      else:\n",
        "        print(i)\n",
        "\n",
        "print(countMaster, countBachelor)"
      ],
      "execution_count": null,
      "outputs": [
        {
          "output_type": "stream",
          "text": [
            "763\n",
            "155 383\n"
          ],
          "name": "stdout"
        }
      ]
    },
    {
      "cell_type": "markdown",
      "metadata": {
        "id": "zm6eX1LoioF4"
      },
      "source": [
        "Student                538 , davon 155 Masteranden und 383 Bacheloranden\n",
        "\n",
        "Lehrpersonal           123\n",
        "\n",
        "Verwaltungspersonal     70\n",
        "\n",
        "Sonstiges Personal      59"
      ]
    },
    {
      "cell_type": "code",
      "metadata": {
        "id": "3pTLQaf9svXo"
      },
      "source": [
        "# replace Student with Bachelor and Master\n",
        "del labels[0]\n",
        "del roles[0]\n",
        "labels.append(\"Bachelor\")\n",
        "roles.append(countBachelor)\n",
        "labels.append(\"Master\")\n",
        "roles.append(countMaster)"
      ],
      "execution_count": null,
      "outputs": []
    },
    {
      "cell_type": "code",
      "metadata": {
        "colab": {
          "base_uri": "https://localhost:8080/",
          "height": 466
        },
        "id": "RQtG0Y7TtQRA",
        "outputId": "108abe50-4eb4-42b6-968a-188333cde66b"
      },
      "source": [
        "fig, ax = plt.subplots(figsize=(8,8))\n",
        "ax.pie(roles, labels = labels, autopct='%1.1f%%')\n",
        "plt.show()"
      ],
      "execution_count": null,
      "outputs": [
        {
          "output_type": "display_data",
          "data": {
            "image/png": "[encoded data removed]",
            "text/plain": [
              "<Figure size 576x576 with 1 Axes>"
            ]
          },
          "metadata": {
            "tags": []
          }
        }
      ]
    },
    {
      "cell_type": "markdown",
      "metadata": {
        "id": "wJgAccmNpN5n"
      },
      "source": [
        "## Durchschnitts-HTWGler"
      ]
    },
    {
      "cell_type": "code",
      "metadata": {
        "colab": {
          "base_uri": "https://localhost:8080/"
        },
        "id": "jJK0wKlhpQKv",
        "outputId": "f62b4f98-b777-4f8d-ddbb-326e02fa8eb5"
      },
      "source": [
        "print(df.Rolle.value_counts().idxmax())\n",
        "print(df.Abschluss.value_counts().idxmax())"
      ],
      "execution_count": null,
      "outputs": [
        {
          "output_type": "stream",
          "text": [
            "Student\n",
            "Bachelor\n"
          ],
          "name": "stdout"
        }
      ]
    },
    {
      "cell_type": "code",
      "metadata": {
        "id": "T6513pd05NnO"
      },
      "source": [
        "# df.Verkehrsmittel.unique()"
      ],
      "execution_count": null,
      "outputs": []
    },
    {
      "cell_type": "code",
      "metadata": {
        "id": "Svc8XCw8p2ET"
      },
      "source": [
        "autoArray = []\n",
        "fussArray = []\n",
        "motorradArray = []\n",
        "bahnArray = []\n",
        "busArray = []\n",
        "fahrradArray = []\n",
        "\n",
        "for i in df.index:\n",
        "  if \"auto\" in df.Verkehrsmittel[i].lower():\n",
        "    autoArray.append(df.Weglänge[i])\n",
        "  if \"FuÃŸ\" in df.Verkehrsmittel[i]:\n",
        "    fussArray.append(df.Weglänge[i])\n",
        "  if \"motorrad\" in df.Verkehrsmittel[i]:\n",
        "    motorradArray.append(df.Weglänge[i])\n",
        "  if \"bahn\" in df.Verkehrsmittel[i].lower():\n",
        "    bahnArray.append((df.Weglänge[i]))\n",
        "  if \"bus\" in df.Verkehrsmittel[i].lower():\n",
        "    busArray.append((df.Weglänge[i]))\n",
        "  if \"fahrrad\" in df.Verkehrsmittel[i].lower() or \"e-bike\" in df.Verkehrsmittel[i].lower() or \"ebike\" in df.Verkehrsmittel[i] or \"pedelec\" in df.Verkehrsmittel[i]:\n",
        "    fahrradArray.append((df.Weglänge[i]))"
      ],
      "execution_count": null,
      "outputs": []
    },
    {
      "cell_type": "code",
      "metadata": {
        "colab": {
          "base_uri": "https://localhost:8080/"
        },
        "id": "KA8J-LoaiKtn",
        "outputId": "ee0ec608-8cc4-46e5-a999-8b18202172b1"
      },
      "source": [
        "print(len(autoArray))\n",
        "print(len(fussArray))\n",
        "print(len(motorradArray))\n",
        "print(len(bahnArray))\n",
        "print(len(busArray))\n",
        "print(len(fahrradArray))"
      ],
      "execution_count": null,
      "outputs": [
        {
          "output_type": "stream",
          "text": [
            "185\n",
            "243\n",
            "0\n",
            "99\n",
            "150\n",
            "511\n"
          ],
          "name": "stdout"
        }
      ]
    },
    {
      "cell_type": "code",
      "metadata": {
        "colab": {
          "base_uri": "https://localhost:8080/"
        },
        "id": "RHyfUrSsjHxN",
        "outputId": "7d601c9e-9aa2-4024-cb9a-7588a7e45d87"
      },
      "source": [
        "# correct data in Weglänge\n",
        "for i in df.index:\n",
        "  if isinstance(df.Weglänge[i], int):\n",
        "    new_float = float(df.Weglänge[i])\n",
        "    df.Weglänge[i] = new_float\n",
        "  elif isinstance(df.Weglänge[i], str):\n",
        "    if \",\" in df.Weglänge[i]:\n",
        "      df.Weglänge[i] = df.Weglänge[i].replace(\",\", \".\")\n",
        "    # find distance number in string with regular expression\n",
        "    distance = re.search(\"\\d+(\\.\\d+)?\", df.Weglänge[i]).group(0)\n",
        "    df.Weglänge[i] = float(distance)\n",
        "\n",
        "print(df.Weglänge.median())\n",
        "print(df.Weglänge.mean())"
      ],
      "execution_count": null,
      "outputs": [
        {
          "output_type": "stream",
          "text": [
            "3.0\n",
            "9.751721854304634\n"
          ],
          "name": "stdout"
        }
      ]
    },
    {
      "cell_type": "code",
      "metadata": {
        "colab": {
          "base_uri": "https://localhost:8080/"
        },
        "id": "K_MjOnbSkUrr",
        "outputId": "b35809f0-5730-4d85-8c9c-a7d4d985af25"
      },
      "source": [
        "df.Fahrzeug.value_counts()"
      ],
      "execution_count": null,
      "outputs": [
        {
          "output_type": "execute_result",
          "data": {
            "text/plain": [
              "Ja      471\n",
              "Nein    320\n",
              "Name: Fahrzeug, dtype: int64"
            ]
          },
          "metadata": {
            "tags": []
          },
          "execution_count": 52
        }
      ]
    },
    {
      "cell_type": "code",
      "metadata": {
        "colab": {
          "base_uri": "https://localhost:8080/"
        },
        "id": "WzqET4o2mSDk",
        "outputId": "bc6b5a36-0b56-453e-a1d4-50269d0d54bc"
      },
      "source": [
        "df.Postleitzahl.value_counts()"
      ],
      "execution_count": null,
      "outputs": [
        {
          "output_type": "execute_result",
          "data": {
            "text/plain": [
              "78467 (Wollmatingen-Fürstenberg)    227\n",
              "78462 (Paradies-Altstadt)           202\n",
              "78464 (Egg-Staad)                   101\n",
              "78315                                33\n",
              "78465 (Dingelsdorf)                  20\n",
              "                                   ... \n",
              "78465 Dettingen                       1\n",
              "78224  Singen                         1\n",
              "70180                                 1\n",
              "78315 Radolfzell                      1\n",
              "78262                                 1\n",
              "Name: Postleitzahl, Length: 112, dtype: int64"
            ]
          },
          "metadata": {
            "tags": []
          },
          "execution_count": 53
        }
      ]
    },
    {
      "cell_type": "code",
      "metadata": {
        "colab": {
          "base_uri": "https://localhost:8080/",
          "height": 35
        },
        "id": "HyqtMAvdmNCt",
        "outputId": "a7d1c666-a315-4e1a-ec5e-79d07e6f82ce"
      },
      "source": [
        "df.Postleitzahl.value_counts().idxmax()"
      ],
      "execution_count": null,
      "outputs": [
        {
          "output_type": "execute_result",
          "data": {
            "application/vnd.google.colaboratory.intrinsic+json": {
              "type": "string"
            },
            "text/plain": [
              "'78467 (Wollmatingen-Fürstenberg)'"
            ]
          },
          "metadata": {
            "tags": []
          },
          "execution_count": 54
        }
      ]
    },
    {
      "cell_type": "markdown",
      "metadata": {
        "id": "dN_YIuduh3JF"
      },
      "source": [
        "Der/Die Durchschnittliche HTWGlerIn ist **BachelorstudentIn**, wohnt **3 km** von der Hochschule entfernt in **78467 Wollmatingen-Fürstenberg**, kommt mit dem **Fahrrad** zur Hochschule und hat ein **Fahrzeug**\n",
        "\n",
        "(die 3km entsprechen tatsächlich der ungefähren Entfernung zwischen HTWG und dem Stadtteil Fürstenberg)"
      ]
    },
    {
      "cell_type": "markdown",
      "metadata": {
        "id": "IG9A3x-3l3Qb"
      },
      "source": [
        "## Anteil E-Bikes an Fahrrädern"
      ]
    },
    {
      "cell_type": "code",
      "metadata": {
        "colab": {
          "base_uri": "https://localhost:8080/"
        },
        "id": "uHOyarn_l9yn",
        "outputId": "b5139784-9455-45b4-826e-ad5e99bfa201"
      },
      "source": [
        "countBike = 0 \n",
        "countEBike = 0\n",
        "for i in df.index:\n",
        "  if \"bike\" in df.Verkehrsmittel[i] or \"Bike\" in df.Verkehrsmittel[i] or \"Fahrrad\" in df.Verkehrsmittel[i] or \"fahrrad\" in df.Verkehrsmittel[i]:\n",
        "    countBike += 1\n",
        "    if df.Ebike[i] == \"Ja\" or df.Ebike[i] == \"ja\":\n",
        "      countEBike += 1\n",
        "\n",
        "print(\"Anzahl Fahrräder: (\" + str(countBike))\n",
        "print(\"davon E-Bikes: \" + str(countEBike))\n",
        "percentage_ebike = str(countEBike/countBike*100)[0:4] + \" %\"\n",
        "percentage_normal_bike = str((countBike-countEBike)/countBike*100)[0:5] + \" %\"\n",
        "print(\"Prozentualer Anteil: \" + percentage_ebike)\n",
        "\n",
        "print(\"Anzahl E-Bikes: \" + str(df.Ebike.value_counts()))\n"
      ],
      "execution_count": null,
      "outputs": [
        {
          "output_type": "stream",
          "text": [
            "Anzahl Fahrräder: (511\n",
            "davon E-Bikes: 22\n",
            "Prozentualer Anteil: 4.30 %\n",
            "Anzahl E-Bikes: Nein    759\n",
            "Ja       32\n",
            "Name: Ebike, dtype: int64\n"
          ],
          "name": "stdout"
        }
      ]
    },
    {
      "cell_type": "markdown",
      "metadata": {
        "id": "fJ8dg3pfpUQi"
      },
      "source": [
        "Von 511 Fahrradfahreren besitzen 22 ein E-Bike. 10 weitere Personen besitzen ein E-Bike, nutzen dies jedoch nicht um zur HTWG zu gelangen."
      ]
    },
    {
      "cell_type": "code",
      "metadata": {
        "colab": {
          "base_uri": "https://localhost:8080/",
          "height": 309
        },
        "id": "O5YmPMrNvq2x",
        "outputId": "407053d4-323c-4ff5-83f8-00526bea731d"
      },
      "source": [
        "x = [22]\n",
        "y = [511-22]\n",
        "\n",
        "fig, ax = plt.subplots(figsize=(7,5))\n",
        "\n",
        "ax.bar(0, x, label=\"E-Bikes (\" + percentage_ebike + \")\")\n",
        "ax.bar(0, y, bottom=x, label=\"normale Fahrräder (\" + percentage_normal_bike + \")\")\n",
        "\n",
        "ax.set_xticks(x)\n",
        "ax.legend(prop={'size': 12})\n",
        "plt.show()"
      ],
      "execution_count": null,
      "outputs": [
        {
          "output_type": "display_data",
          "data": {
            "image/png": "[encoded data removed]",
            "text/plain": [
              "<Figure size 504x360 with 1 Axes>"
            ]
          },
          "metadata": {
            "tags": [],
            "needs_background": "light"
          }
        }
      ]
    },
    {
      "cell_type": "markdown",
      "metadata": {
        "id": "SXSn-7vsC-WG"
      },
      "source": [
        "Anteil E-Bikes ist sehr gering, wahrscheinlich aufgrund des hohen Anschaffungspreises"
      ]
    },
    {
      "cell_type": "markdown",
      "metadata": {
        "id": "iQR6K0rxpuwL"
      },
      "source": [
        "## Verteilung Entfernung und Verkehrsmittel"
      ]
    },
    {
      "cell_type": "code",
      "metadata": {
        "id": "Sjz8tCCdkwCP"
      },
      "source": [
        "allArray = [autoArray, fussArray, motorradArray, bahnArray, busArray, fahrradArray]"
      ],
      "execution_count": null,
      "outputs": []
    },
    {
      "cell_type": "code",
      "metadata": {
        "id": "Da9MCdwClB5f"
      },
      "source": [
        "for i in range(len(allArray)):\n",
        "  for j in range(len(allArray[i])):\n",
        "    if isinstance(allArray[i][j], int):\n",
        "      allArray[i][j] = float(allArray[i][j])\n",
        "    elif isinstance(allArray[i][j], str):\n",
        "      if \",\" in allArray[i][j]:\n",
        "        allArray[i][j] = allArray[i][j].replace(\",\", \".\")\n",
        "      # find distance number in string with regular expression\n",
        "      distance = re.search(\"\\d+(\\.\\d+)?\", allArray[i][j]).group(0)\n",
        "      allArray[i][j] = float(distance)"
      ],
      "execution_count": null,
      "outputs": []
    },
    {
      "cell_type": "code",
      "metadata": {
        "id": "Sn82RKwu3Imh"
      },
      "source": [
        "# plot histogram\n",
        "# for i in range(len(allArray)):\n",
        "#   fig, ax = plt.subplots(figsize=(30,6))\n",
        "#   ax.hist(allArray[i], bins=100)\n",
        "#   plt.show()"
      ],
      "execution_count": null,
      "outputs": []
    },
    {
      "cell_type": "markdown",
      "metadata": {
        "id": "Yc6HWFSR58SA"
      },
      "source": [
        "KDE with Gaussian Kernel"
      ]
    },
    {
      "cell_type": "code",
      "metadata": {
        "colab": {
          "base_uri": "https://localhost:8080/",
          "height": 526
        },
        "id": "bQKeEnnnAnIv",
        "outputId": "a8634dfe-3e01-433c-b683-ecd7052b0864"
      },
      "source": [
        "label = [\"Auto\", \"zu Fuß\", \"Motorrad\", \"Bahn\", \"Bus\", \"Fahrrad\"]\n",
        "color = ['b', 'r', 'g', 'c', 'm', 'y']\n",
        "\n",
        "kde_data = allArray\n",
        "fig, ax = plt.subplots(figsize=(30,10))\n",
        "\n",
        "# kde with bounded support\n",
        "for i in range(len(kde_data)):\n",
        "  sbn.kdeplot(kde_data[i], color=color[i], Label=label[i], clip=(0, 100))\n",
        "\n",
        "plt.xlabel('Weglänge in km')\n",
        "plt.ylabel('Wahrscheinlichkeitsdichte')\n",
        "plt.legend(prop={'size': 15})\n",
        "plt.xlim([-1, 51])\n",
        "plt.show()"
      ],
      "execution_count": null,
      "outputs": [
        {
          "output_type": "display_data",
          "data": {
            "image/png": "[encoded data removed]",
            "text/plain": [
              "<Figure size 2160x720 with 1 Axes>"
            ]
          },
          "metadata": {
            "tags": [],
            "needs_background": "light"
          }
        }
      ]
    },
    {
      "cell_type": "markdown",
      "metadata": {
        "id": "4YOoYRqvTedX"
      },
      "source": [
        "## Besitz Fahrzeug im Bezug auf Weglänge"
      ]
    },
    {
      "cell_type": "code",
      "metadata": {
        "id": "fOXovET0wMqJ"
      },
      "source": [
        "# prepare dataframe for violinplot\n",
        "df['Weglänge'] = df['Weglänge'].astype(float)\n",
        "\n",
        "df.insert(0, ' ', ' ')\n",
        "df.insert(0, 'Rolle_simple', None)\n",
        "for i in df.index:\n",
        "  if df.Rolle[i] != \"Student\":\n",
        "    df.Rolle_simple[i] = \"Personal\"\n",
        "  else:\n",
        "    df.Rolle_simple[i] = \"Student\"\n",
        "\n",
        "df['Rolle_simple'] = df.Rolle_simple.astype('category')"
      ],
      "execution_count": null,
      "outputs": []
    },
    {
      "cell_type": "code",
      "metadata": {
        "colab": {
          "base_uri": "https://localhost:8080/",
          "height": 532
        },
        "id": "KcU8PKfmTYPH",
        "outputId": "cb3a959a-aca0-4c41-9e1b-3e61fda77b87"
      },
      "source": [
        "fig, ax = plt.subplots(figsize=(30,10))\n",
        "\n",
        "ax = sbn.violinplot(x=\"Weglänge\", y=\" \", hue=\"Rolle_simple\",\n",
        "                    data=df, palette=\"muted\", split=True, cut=0)\n",
        "\n",
        "plt.legend(title=\"Rolle\", prop={'size': 15})\n",
        "plt.xlim([-1, 51])\n",
        "plt.show()"
      ],
      "execution_count": null,
      "outputs": [
        {
          "output_type": "display_data",
          "data": {
            "image/png": "[encoded data removed]",
            "text/plain": [
              "<Figure size 2160x720 with 1 Axes>"
            ]
          },
          "metadata": {
            "tags": [],
            "needs_background": "light"
          }
        }
      ]
    },
    {
      "cell_type": "markdown",
      "metadata": {
        "id": "txRZulEXDhnd"
      },
      "source": [
        "Studenten wohnen näher an HTWG, da viele womöglich in Studentenwohnheimen wohnen, die nahe and der Hochschule wohnen\n",
        "Es gibt Personal, die nur wenige Wochentage an der HTWG sind und desshalb womöglich weiter entfernt wohnen und zur HTWG pendeln"
      ]
    },
    {
      "cell_type": "markdown",
      "metadata": {
        "id": "aduVJc9pedPc"
      },
      "source": [
        "## Weniger anspruchsvolle Facts"
      ]
    },
    {
      "cell_type": "markdown",
      "metadata": {
        "id": "IVgyRf2ftfAB"
      },
      "source": [
        "### Wieviele fahren Fahrrad obwohl sie ein Auto zur Verfügung haben"
      ]
    },
    {
      "cell_type": "code",
      "metadata": {
        "colab": {
          "base_uri": "https://localhost:8080/"
        },
        "id": "Xgsn1fzktrNG",
        "outputId": "63d0c3a6-f6ea-4506-92e4-4c4d7810daa4"
      },
      "source": [
        "bikeCarCounter = 0\n",
        "for i in df.index:\n",
        "  if \"bike\" in df.Verkehrsmittel[i] or \"Bike\" in df.Verkehrsmittel[i] or \"Fahrrad\" in df.Verkehrsmittel[i] or \"fahrrad\" in df.Verkehrsmittel[i]:\n",
        "    if df.Fahrzeug[i] == \"Ja\":\n",
        "      bikeCarCounter +=1\n",
        "\n",
        "print(bikeCarCounter)"
      ],
      "execution_count": null,
      "outputs": [
        {
          "output_type": "stream",
          "text": [
            "271\n"
          ],
          "name": "stdout"
        }
      ]
    },
    {
      "cell_type": "markdown",
      "metadata": {
        "id": "jepoPTv-uJC9"
      },
      "source": [
        "Es gibt 271 Personen, welche regelmäßig Fahrrad zur HTWG fahren, obwohl sie ein Kraftfahrzeug besitzten."
      ]
    },
    {
      "cell_type": "markdown",
      "metadata": {
        "id": "lytBl9aVn11v"
      },
      "source": [
        "### Nutzung der vorhandenen Zeitfahrkarte für die HTWG"
      ]
    },
    {
      "cell_type": "code",
      "metadata": {
        "colab": {
          "base_uri": "https://localhost:8080/"
        },
        "id": "ZzzQ1Bwdn7ZJ",
        "outputId": "a2dfdbdb-2922-4c2d-b6f4-3f876159a5bb"
      },
      "source": [
        "karteCounter = 0\n",
        "bahnBusCounter = 0\n",
        "\n",
        "for i in df.index:\n",
        "  if df.Zeitfahrkarte[i] == \"Ja\":\n",
        "    karteCounter += 1\n",
        "    if \"bus\" in df.Verkehrsmittel[i].lower():\n",
        "      bahnBusCounter += 1\n",
        "    elif \"bahn\" in df.Verkehrsmittel[i].lower():\n",
        "      bahnBusCounter += 1\n",
        "\n",
        "print(karteCounter, bahnBusCounter)"
      ],
      "execution_count": null,
      "outputs": [
        {
          "output_type": "stream",
          "text": [
            "287 183\n"
          ],
          "name": "stdout"
        }
      ]
    },
    {
      "cell_type": "markdown",
      "metadata": {
        "id": "UsHYtWy6u6Gz"
      },
      "source": [
        "Insgesamt **287** HTWGler besitzen eine Zeitfahrkarte, jedoch nutzen nur **183** hiervon diese regelmäßig, um zur Hochschule zu gelangen."
      ]
    }
  ]
}